{
 "cells": [
  {
   "cell_type": "code",
   "execution_count": 68,
   "id": "6aa0ee94-a135-449c-82ff-26e63ad22149",
   "metadata": {},
   "outputs": [],
   "source": [
    "from sklearn.feature_extraction.text import TfidfVectorizer\n",
    "from sklearn.svm import SVC\n",
    "from sklearn.neighbors import KNeighborsClassifier\n",
    "from sklearn.pipeline import make_pipeline\n",
    "from sklearn.model_selection import train_test_split, GridSearchCV, KFold\n",
    "from sklearn.preprocessing import LabelEncoder\n",
    "from sklearn.metrics import classification_report, confusion_matrix, accuracy_score\n",
    "import matplotlib.pyplot as plt\n",
    "import pickle\n",
    "import seaborn as sns\n",
    "import numpy as np\n",
    "import pandas as pd"
   ]
  },
  {
   "cell_type": "markdown",
   "id": "61a3202c-59b1-414d-b40c-7a94e44233cf",
   "metadata": {},
   "source": [
    "### General Function"
   ]
  },
  {
   "cell_type": "code",
   "execution_count": 29,
   "id": "db38d902-239f-4dea-a61a-5bebb70f8917",
   "metadata": {},
   "outputs": [],
   "source": [
    "def print_confusion_matrix(confusion_matrix, class_names, figsize = (10,7), fontsize=14):\n",
    "    df_cm = pd.DataFrame(\n",
    "        confusion_matrix, index=class_names, columns=class_names,\n",
    "    )\n",
    "    fig = plt.figure(figsize=figsize)\n",
    "    try:\n",
    "        heatmap = sns.heatmap(df_cm, annot=True, fmt=\"d\")\n",
    "    except ValueError:\n",
    "        raise ValueError(\"Confusion matrix values must be integers.\")\n",
    "    heatmap.yaxis.set_ticklabels(heatmap.yaxis.get_ticklabels(), rotation=0, ha='right', fontsize=fontsize)\n",
    "    heatmap.xaxis.set_ticklabels(heatmap.xaxis.get_ticklabels(), rotation=45, ha='right', fontsize=fontsize)\n",
    "    plt.ylabel('True label')\n",
    "    plt.xlabel('Predicted label')\n",
    "    return fig"
   ]
  },
  {
   "cell_type": "markdown",
   "id": "46329df9-fe79-4c18-a5ea-08ae7c785a12",
   "metadata": {},
   "source": [
    "### Load Datasets"
   ]
  },
  {
   "cell_type": "code",
   "execution_count": 88,
   "id": "17e0451d-9caf-4707-9e2f-6b859389dbbf",
   "metadata": {},
   "outputs": [],
   "source": [
    "datasets_df = pd.read_csv('../data/datasets/datasets.csv')\n",
    "X = datasets_df['Payloads'].to_numpy().astype(str)\n",
    "y = datasets_df['Types'].to_numpy().astype(str)"
   ]
  },
  {
   "cell_type": "markdown",
   "id": "24b8e777-14bb-4a49-b469-1dce39d47efd",
   "metadata": {},
   "source": [
    "### Split Data"
   ]
  },
  {
   "cell_type": "code",
   "execution_count": 89,
   "id": "761ced93-1a34-414f-b22b-39ff0a4d9c5c",
   "metadata": {},
   "outputs": [],
   "source": [
    "X_train, X_test, y_train, y_test = train_test_split(X, y, test_size=0.2, random_state=1)\n",
    "X_train, X_val, y_train, y_val = train_test_split(X_train, y_train, test_size=0.25, random_state=1)"
   ]
  },
  {
   "cell_type": "code",
   "execution_count": 90,
   "id": "1e319582-277f-44b7-9684-142b189c05cb",
   "metadata": {},
   "outputs": [],
   "source": [
    "np.savez('../data/datasets/dataset', trainX=X_train, testX=X_test, trainY=y_train, testY=y_test)"
   ]
  },
  {
   "cell_type": "markdown",
   "id": "f28a8152-a1ad-4162-ad91-45ce6daa073a",
   "metadata": {},
   "source": [
    "## SVM\n",
    "### Grid Search for Hyperameter Tuning SVM"
   ]
  },
  {
   "cell_type": "code",
   "execution_count": 15,
   "id": "59b629c4-03ec-49a2-a078-6f17d88c1a60",
   "metadata": {},
   "outputs": [
    {
     "name": "stdout",
     "output_type": "stream",
     "text": [
      "Fitting 2 folds for each of 12 candidates, totalling 24 fits\n",
      "[CV 1/2] END svc__C=1, svc__kernel=linear, tfidfvectorizer__ngram_range=(1, 1);, score=0.988 total time=   4.7s\n",
      "[CV 2/2] END svc__C=1, svc__kernel=linear, tfidfvectorizer__ngram_range=(1, 1);, score=0.988 total time=   4.4s\n",
      "[CV 1/2] END svc__C=1, svc__kernel=linear, tfidfvectorizer__ngram_range=(1, 2);, score=0.994 total time=  18.2s\n",
      "[CV 2/2] END svc__C=1, svc__kernel=linear, tfidfvectorizer__ngram_range=(1, 2);, score=0.992 total time=  18.0s\n",
      "[CV 1/2] END svc__C=1, svc__kernel=linear, tfidfvectorizer__ngram_range=(1, 4);, score=0.994 total time=  20.8s\n",
      "[CV 2/2] END svc__C=1, svc__kernel=linear, tfidfvectorizer__ngram_range=(1, 4);, score=0.993 total time=  21.6s\n",
      "[CV 1/2] END svc__C=1, svc__kernel=rbf, tfidfvectorizer__ngram_range=(1, 1);, score=0.992 total time=   5.8s\n",
      "[CV 2/2] END svc__C=1, svc__kernel=rbf, tfidfvectorizer__ngram_range=(1, 1);, score=0.990 total time=   5.8s\n",
      "[CV 1/2] END svc__C=1, svc__kernel=rbf, tfidfvectorizer__ngram_range=(1, 2);, score=0.994 total time=  32.1s\n",
      "[CV 2/2] END svc__C=1, svc__kernel=rbf, tfidfvectorizer__ngram_range=(1, 2);, score=0.992 total time=  31.5s\n",
      "[CV 1/2] END svc__C=1, svc__kernel=rbf, tfidfvectorizer__ngram_range=(1, 4);, score=0.994 total time=  33.7s\n",
      "[CV 2/2] END svc__C=1, svc__kernel=rbf, tfidfvectorizer__ngram_range=(1, 4);, score=0.993 total time=  33.8s\n",
      "[CV 1/2] END svc__C=10, svc__kernel=linear, tfidfvectorizer__ngram_range=(1, 1);, score=0.990 total time=   3.7s\n",
      "[CV 2/2] END svc__C=10, svc__kernel=linear, tfidfvectorizer__ngram_range=(1, 1);, score=0.990 total time=   3.4s\n",
      "[CV 1/2] END svc__C=10, svc__kernel=linear, tfidfvectorizer__ngram_range=(1, 2);, score=0.994 total time=  17.4s\n",
      "[CV 2/2] END svc__C=10, svc__kernel=linear, tfidfvectorizer__ngram_range=(1, 2);, score=0.994 total time=  17.3s\n",
      "[CV 1/2] END svc__C=10, svc__kernel=linear, tfidfvectorizer__ngram_range=(1, 4);, score=0.994 total time=  19.1s\n",
      "[CV 2/2] END svc__C=10, svc__kernel=linear, tfidfvectorizer__ngram_range=(1, 4);, score=0.995 total time=  19.3s\n",
      "[CV 1/2] END svc__C=10, svc__kernel=rbf, tfidfvectorizer__ngram_range=(1, 1);, score=0.994 total time=   5.5s\n",
      "[CV 2/2] END svc__C=10, svc__kernel=rbf, tfidfvectorizer__ngram_range=(1, 1);, score=0.993 total time=   5.6s\n",
      "[CV 1/2] END svc__C=10, svc__kernel=rbf, tfidfvectorizer__ngram_range=(1, 2);, score=0.995 total time=  31.4s\n",
      "[CV 2/2] END svc__C=10, svc__kernel=rbf, tfidfvectorizer__ngram_range=(1, 2);, score=0.994 total time=  31.6s\n",
      "[CV 1/2] END svc__C=10, svc__kernel=rbf, tfidfvectorizer__ngram_range=(1, 4);, score=0.995 total time=  33.6s\n",
      "[CV 2/2] END svc__C=10, svc__kernel=rbf, tfidfvectorizer__ngram_range=(1, 4);, score=0.995 total time=  33.8s\n"
     ]
    },
    {
     "data": {
      "text/html": [
       "<style>#sk-container-id-1 {color: black;background-color: white;}#sk-container-id-1 pre{padding: 0;}#sk-container-id-1 div.sk-toggleable {background-color: white;}#sk-container-id-1 label.sk-toggleable__label {cursor: pointer;display: block;width: 100%;margin-bottom: 0;padding: 0.3em;box-sizing: border-box;text-align: center;}#sk-container-id-1 label.sk-toggleable__label-arrow:before {content: \"▸\";float: left;margin-right: 0.25em;color: #696969;}#sk-container-id-1 label.sk-toggleable__label-arrow:hover:before {color: black;}#sk-container-id-1 div.sk-estimator:hover label.sk-toggleable__label-arrow:before {color: black;}#sk-container-id-1 div.sk-toggleable__content {max-height: 0;max-width: 0;overflow: hidden;text-align: left;background-color: #f0f8ff;}#sk-container-id-1 div.sk-toggleable__content pre {margin: 0.2em;color: black;border-radius: 0.25em;background-color: #f0f8ff;}#sk-container-id-1 input.sk-toggleable__control:checked~div.sk-toggleable__content {max-height: 200px;max-width: 100%;overflow: auto;}#sk-container-id-1 input.sk-toggleable__control:checked~label.sk-toggleable__label-arrow:before {content: \"▾\";}#sk-container-id-1 div.sk-estimator input.sk-toggleable__control:checked~label.sk-toggleable__label {background-color: #d4ebff;}#sk-container-id-1 div.sk-label input.sk-toggleable__control:checked~label.sk-toggleable__label {background-color: #d4ebff;}#sk-container-id-1 input.sk-hidden--visually {border: 0;clip: rect(1px 1px 1px 1px);clip: rect(1px, 1px, 1px, 1px);height: 1px;margin: -1px;overflow: hidden;padding: 0;position: absolute;width: 1px;}#sk-container-id-1 div.sk-estimator {font-family: monospace;background-color: #f0f8ff;border: 1px dotted black;border-radius: 0.25em;box-sizing: border-box;margin-bottom: 0.5em;}#sk-container-id-1 div.sk-estimator:hover {background-color: #d4ebff;}#sk-container-id-1 div.sk-parallel-item::after {content: \"\";width: 100%;border-bottom: 1px solid gray;flex-grow: 1;}#sk-container-id-1 div.sk-label:hover label.sk-toggleable__label {background-color: #d4ebff;}#sk-container-id-1 div.sk-serial::before {content: \"\";position: absolute;border-left: 1px solid gray;box-sizing: border-box;top: 0;bottom: 0;left: 50%;z-index: 0;}#sk-container-id-1 div.sk-serial {display: flex;flex-direction: column;align-items: center;background-color: white;padding-right: 0.2em;padding-left: 0.2em;position: relative;}#sk-container-id-1 div.sk-item {position: relative;z-index: 1;}#sk-container-id-1 div.sk-parallel {display: flex;align-items: stretch;justify-content: center;background-color: white;position: relative;}#sk-container-id-1 div.sk-item::before, #sk-container-id-1 div.sk-parallel-item::before {content: \"\";position: absolute;border-left: 1px solid gray;box-sizing: border-box;top: 0;bottom: 0;left: 50%;z-index: -1;}#sk-container-id-1 div.sk-parallel-item {display: flex;flex-direction: column;z-index: 1;position: relative;background-color: white;}#sk-container-id-1 div.sk-parallel-item:first-child::after {align-self: flex-end;width: 50%;}#sk-container-id-1 div.sk-parallel-item:last-child::after {align-self: flex-start;width: 50%;}#sk-container-id-1 div.sk-parallel-item:only-child::after {width: 0;}#sk-container-id-1 div.sk-dashed-wrapped {border: 1px dashed gray;margin: 0 0.4em 0.5em 0.4em;box-sizing: border-box;padding-bottom: 0.4em;background-color: white;}#sk-container-id-1 div.sk-label label {font-family: monospace;font-weight: bold;display: inline-block;line-height: 1.2em;}#sk-container-id-1 div.sk-label-container {text-align: center;}#sk-container-id-1 div.sk-container {/* jupyter's `normalize.less` sets `[hidden] { display: none; }` but bootstrap.min.css set `[hidden] { display: none !important; }` so we also need the `!important` here to be able to override the default hidden behavior on the sphinx rendered scikit-learn.org. See: https://github.com/scikit-learn/scikit-learn/issues/21755 */display: inline-block !important;position: relative;}#sk-container-id-1 div.sk-text-repr-fallback {display: none;}</style><div id=\"sk-container-id-1\" class=\"sk-top-container\"><div class=\"sk-text-repr-fallback\"><pre>GridSearchCV(cv=2,\n",
       "             estimator=Pipeline(steps=[(&#x27;tfidfvectorizer&#x27;,\n",
       "                                        TfidfVectorizer(analyzer=&#x27;char&#x27;,\n",
       "                                                        max_features=1024)),\n",
       "                                       (&#x27;svc&#x27;, SVC())]),\n",
       "             param_grid={&#x27;svc__C&#x27;: [1, 10], &#x27;svc__kernel&#x27;: [&#x27;linear&#x27;, &#x27;rbf&#x27;],\n",
       "                         &#x27;tfidfvectorizer__ngram_range&#x27;: [(1, 1), (1, 2),\n",
       "                                                          (1, 4)]},\n",
       "             verbose=4)</pre><b>In a Jupyter environment, please rerun this cell to show the HTML representation or trust the notebook. <br />On GitHub, the HTML representation is unable to render, please try loading this page with nbviewer.org.</b></div><div class=\"sk-container\" hidden><div class=\"sk-item sk-dashed-wrapped\"><div class=\"sk-label-container\"><div class=\"sk-label sk-toggleable\"><input class=\"sk-toggleable__control sk-hidden--visually\" id=\"sk-estimator-id-1\" type=\"checkbox\" ><label for=\"sk-estimator-id-1\" class=\"sk-toggleable__label sk-toggleable__label-arrow\">GridSearchCV</label><div class=\"sk-toggleable__content\"><pre>GridSearchCV(cv=2,\n",
       "             estimator=Pipeline(steps=[(&#x27;tfidfvectorizer&#x27;,\n",
       "                                        TfidfVectorizer(analyzer=&#x27;char&#x27;,\n",
       "                                                        max_features=1024)),\n",
       "                                       (&#x27;svc&#x27;, SVC())]),\n",
       "             param_grid={&#x27;svc__C&#x27;: [1, 10], &#x27;svc__kernel&#x27;: [&#x27;linear&#x27;, &#x27;rbf&#x27;],\n",
       "                         &#x27;tfidfvectorizer__ngram_range&#x27;: [(1, 1), (1, 2),\n",
       "                                                          (1, 4)]},\n",
       "             verbose=4)</pre></div></div></div><div class=\"sk-parallel\"><div class=\"sk-parallel-item\"><div class=\"sk-item\"><div class=\"sk-label-container\"><div class=\"sk-label sk-toggleable\"><input class=\"sk-toggleable__control sk-hidden--visually\" id=\"sk-estimator-id-2\" type=\"checkbox\" ><label for=\"sk-estimator-id-2\" class=\"sk-toggleable__label sk-toggleable__label-arrow\">estimator: Pipeline</label><div class=\"sk-toggleable__content\"><pre>Pipeline(steps=[(&#x27;tfidfvectorizer&#x27;,\n",
       "                 TfidfVectorizer(analyzer=&#x27;char&#x27;, max_features=1024)),\n",
       "                (&#x27;svc&#x27;, SVC())])</pre></div></div></div><div class=\"sk-serial\"><div class=\"sk-item\"><div class=\"sk-serial\"><div class=\"sk-item\"><div class=\"sk-estimator sk-toggleable\"><input class=\"sk-toggleable__control sk-hidden--visually\" id=\"sk-estimator-id-3\" type=\"checkbox\" ><label for=\"sk-estimator-id-3\" class=\"sk-toggleable__label sk-toggleable__label-arrow\">TfidfVectorizer</label><div class=\"sk-toggleable__content\"><pre>TfidfVectorizer(analyzer=&#x27;char&#x27;, max_features=1024)</pre></div></div></div><div class=\"sk-item\"><div class=\"sk-estimator sk-toggleable\"><input class=\"sk-toggleable__control sk-hidden--visually\" id=\"sk-estimator-id-4\" type=\"checkbox\" ><label for=\"sk-estimator-id-4\" class=\"sk-toggleable__label sk-toggleable__label-arrow\">SVC</label><div class=\"sk-toggleable__content\"><pre>SVC()</pre></div></div></div></div></div></div></div></div></div></div></div></div>"
      ],
      "text/plain": [
       "GridSearchCV(cv=2,\n",
       "             estimator=Pipeline(steps=[('tfidfvectorizer',\n",
       "                                        TfidfVectorizer(analyzer='char',\n",
       "                                                        max_features=1024)),\n",
       "                                       ('svc', SVC())]),\n",
       "             param_grid={'svc__C': [1, 10], 'svc__kernel': ['linear', 'rbf'],\n",
       "                         'tfidfvectorizer__ngram_range': [(1, 1), (1, 2),\n",
       "                                                          (1, 4)]},\n",
       "             verbose=4)"
      ]
     },
     "execution_count": 15,
     "metadata": {},
     "output_type": "execute_result"
    }
   ],
   "source": [
    "pipe = make_pipeline(TfidfVectorizer(input = 'content', lowercase = True, analyzer = 'char', max_features = 1024), SVC())\n",
    "\n",
    "grids = {\n",
    "    'tfidfvectorizer__ngram_range': [(1, 1), (1, 2), (1, 4)], \n",
    "    'svc__C': [1, 10], \n",
    "    'svc__kernel': ['linear', 'rbf']\n",
    "}\n",
    "\n",
    "grid = GridSearchCV(pipe, grids, cv = 2, verbose = 4)\n",
    "\n",
    "grid.fit(X_train, y_train)"
   ]
  },
  {
   "cell_type": "code",
   "execution_count": 16,
   "id": "d50bac42-b3d4-458b-80ee-c714c8dedf7d",
   "metadata": {},
   "outputs": [
    {
     "name": "stdout",
     "output_type": "stream",
     "text": [
      "Best score: 0.995\n",
      "Best parameters set:\n",
      "\tsvc__C: 10\n",
      "\tsvc__kernel: 'rbf'\n",
      "\ttfidfvectorizer__ngram_range: (1, 4)\n"
     ]
    }
   ],
   "source": [
    "print(\"Best score: %0.3f\" % grid.best_score_)\n",
    "print(\"Best parameters set:\")\n",
    "best_parameters = grid.best_estimator_.get_params()\n",
    "for param_name in sorted(grids.keys()):\n",
    "    print(\"\\t%s: %r\" % (param_name, best_parameters[param_name]))\n"
   ]
  },
  {
   "cell_type": "markdown",
   "id": "b4e7e6c4-af0b-4d15-a153-434d64bbec44",
   "metadata": {},
   "source": [
    "### Train Model"
   ]
  },
  {
   "cell_type": "code",
   "execution_count": 19,
   "id": "9122bc65-de79-4d32-abfe-7d81b55d961e",
   "metadata": {},
   "outputs": [
    {
     "data": {
      "text/html": [
       "<style>#sk-container-id-3 {color: black;background-color: white;}#sk-container-id-3 pre{padding: 0;}#sk-container-id-3 div.sk-toggleable {background-color: white;}#sk-container-id-3 label.sk-toggleable__label {cursor: pointer;display: block;width: 100%;margin-bottom: 0;padding: 0.3em;box-sizing: border-box;text-align: center;}#sk-container-id-3 label.sk-toggleable__label-arrow:before {content: \"▸\";float: left;margin-right: 0.25em;color: #696969;}#sk-container-id-3 label.sk-toggleable__label-arrow:hover:before {color: black;}#sk-container-id-3 div.sk-estimator:hover label.sk-toggleable__label-arrow:before {color: black;}#sk-container-id-3 div.sk-toggleable__content {max-height: 0;max-width: 0;overflow: hidden;text-align: left;background-color: #f0f8ff;}#sk-container-id-3 div.sk-toggleable__content pre {margin: 0.2em;color: black;border-radius: 0.25em;background-color: #f0f8ff;}#sk-container-id-3 input.sk-toggleable__control:checked~div.sk-toggleable__content {max-height: 200px;max-width: 100%;overflow: auto;}#sk-container-id-3 input.sk-toggleable__control:checked~label.sk-toggleable__label-arrow:before {content: \"▾\";}#sk-container-id-3 div.sk-estimator input.sk-toggleable__control:checked~label.sk-toggleable__label {background-color: #d4ebff;}#sk-container-id-3 div.sk-label input.sk-toggleable__control:checked~label.sk-toggleable__label {background-color: #d4ebff;}#sk-container-id-3 input.sk-hidden--visually {border: 0;clip: rect(1px 1px 1px 1px);clip: rect(1px, 1px, 1px, 1px);height: 1px;margin: -1px;overflow: hidden;padding: 0;position: absolute;width: 1px;}#sk-container-id-3 div.sk-estimator {font-family: monospace;background-color: #f0f8ff;border: 1px dotted black;border-radius: 0.25em;box-sizing: border-box;margin-bottom: 0.5em;}#sk-container-id-3 div.sk-estimator:hover {background-color: #d4ebff;}#sk-container-id-3 div.sk-parallel-item::after {content: \"\";width: 100%;border-bottom: 1px solid gray;flex-grow: 1;}#sk-container-id-3 div.sk-label:hover label.sk-toggleable__label {background-color: #d4ebff;}#sk-container-id-3 div.sk-serial::before {content: \"\";position: absolute;border-left: 1px solid gray;box-sizing: border-box;top: 0;bottom: 0;left: 50%;z-index: 0;}#sk-container-id-3 div.sk-serial {display: flex;flex-direction: column;align-items: center;background-color: white;padding-right: 0.2em;padding-left: 0.2em;position: relative;}#sk-container-id-3 div.sk-item {position: relative;z-index: 1;}#sk-container-id-3 div.sk-parallel {display: flex;align-items: stretch;justify-content: center;background-color: white;position: relative;}#sk-container-id-3 div.sk-item::before, #sk-container-id-3 div.sk-parallel-item::before {content: \"\";position: absolute;border-left: 1px solid gray;box-sizing: border-box;top: 0;bottom: 0;left: 50%;z-index: -1;}#sk-container-id-3 div.sk-parallel-item {display: flex;flex-direction: column;z-index: 1;position: relative;background-color: white;}#sk-container-id-3 div.sk-parallel-item:first-child::after {align-self: flex-end;width: 50%;}#sk-container-id-3 div.sk-parallel-item:last-child::after {align-self: flex-start;width: 50%;}#sk-container-id-3 div.sk-parallel-item:only-child::after {width: 0;}#sk-container-id-3 div.sk-dashed-wrapped {border: 1px dashed gray;margin: 0 0.4em 0.5em 0.4em;box-sizing: border-box;padding-bottom: 0.4em;background-color: white;}#sk-container-id-3 div.sk-label label {font-family: monospace;font-weight: bold;display: inline-block;line-height: 1.2em;}#sk-container-id-3 div.sk-label-container {text-align: center;}#sk-container-id-3 div.sk-container {/* jupyter's `normalize.less` sets `[hidden] { display: none; }` but bootstrap.min.css set `[hidden] { display: none !important; }` so we also need the `!important` here to be able to override the default hidden behavior on the sphinx rendered scikit-learn.org. See: https://github.com/scikit-learn/scikit-learn/issues/21755 */display: inline-block !important;position: relative;}#sk-container-id-3 div.sk-text-repr-fallback {display: none;}</style><div id=\"sk-container-id-3\" class=\"sk-top-container\"><div class=\"sk-text-repr-fallback\"><pre>Pipeline(steps=[(&#x27;tfidfvectorizer&#x27;,\n",
       "                 TfidfVectorizer(analyzer=&#x27;char&#x27;, max_features=1024,\n",
       "                                 ngram_range=(1, 4))),\n",
       "                (&#x27;svc&#x27;, SVC(C=10, probability=True))])</pre><b>In a Jupyter environment, please rerun this cell to show the HTML representation or trust the notebook. <br />On GitHub, the HTML representation is unable to render, please try loading this page with nbviewer.org.</b></div><div class=\"sk-container\" hidden><div class=\"sk-item sk-dashed-wrapped\"><div class=\"sk-label-container\"><div class=\"sk-label sk-toggleable\"><input class=\"sk-toggleable__control sk-hidden--visually\" id=\"sk-estimator-id-8\" type=\"checkbox\" ><label for=\"sk-estimator-id-8\" class=\"sk-toggleable__label sk-toggleable__label-arrow\">Pipeline</label><div class=\"sk-toggleable__content\"><pre>Pipeline(steps=[(&#x27;tfidfvectorizer&#x27;,\n",
       "                 TfidfVectorizer(analyzer=&#x27;char&#x27;, max_features=1024,\n",
       "                                 ngram_range=(1, 4))),\n",
       "                (&#x27;svc&#x27;, SVC(C=10, probability=True))])</pre></div></div></div><div class=\"sk-serial\"><div class=\"sk-item\"><div class=\"sk-estimator sk-toggleable\"><input class=\"sk-toggleable__control sk-hidden--visually\" id=\"sk-estimator-id-9\" type=\"checkbox\" ><label for=\"sk-estimator-id-9\" class=\"sk-toggleable__label sk-toggleable__label-arrow\">TfidfVectorizer</label><div class=\"sk-toggleable__content\"><pre>TfidfVectorizer(analyzer=&#x27;char&#x27;, max_features=1024, ngram_range=(1, 4))</pre></div></div></div><div class=\"sk-item\"><div class=\"sk-estimator sk-toggleable\"><input class=\"sk-toggleable__control sk-hidden--visually\" id=\"sk-estimator-id-10\" type=\"checkbox\" ><label for=\"sk-estimator-id-10\" class=\"sk-toggleable__label sk-toggleable__label-arrow\">SVC</label><div class=\"sk-toggleable__content\"><pre>SVC(C=10, probability=True)</pre></div></div></div></div></div></div></div>"
      ],
      "text/plain": [
       "Pipeline(steps=[('tfidfvectorizer',\n",
       "                 TfidfVectorizer(analyzer='char', max_features=1024,\n",
       "                                 ngram_range=(1, 4))),\n",
       "                ('svc', SVC(C=10, probability=True))])"
      ]
     },
     "execution_count": 19,
     "metadata": {},
     "output_type": "execute_result"
    }
   ],
   "source": [
    "model_svm = make_pipeline(TfidfVectorizer(input = 'content', lowercase = True, analyzer = 'char', max_features = 1024, ngram_range = (1, 4)), SVC(C = 10, kernel = 'rbf', probability=True))\n",
    "model_svm.fit(X_train, y_train) "
   ]
  },
  {
   "cell_type": "code",
   "execution_count": 20,
   "id": "ff66d0b1-7daf-4fc5-925b-c3b9c613c37d",
   "metadata": {},
   "outputs": [
    {
     "data": {
      "text/plain": [
       "0.9961990032941972"
      ]
     },
     "execution_count": 20,
     "metadata": {},
     "output_type": "execute_result"
    }
   ],
   "source": [
    "model_svm.score(X_test, y_test)"
   ]
  },
  {
   "cell_type": "code",
   "execution_count": 25,
   "id": "6696ebd1-6ef9-445a-a821-f1873efc7722",
   "metadata": {},
   "outputs": [],
   "source": [
    "test_prediction_svm = model_svm.predict(X_test)\n",
    "test_accuracy_svm = accuracy_score(y_test, test_prediction_svm)"
   ]
  },
  {
   "cell_type": "markdown",
   "id": "1195551f-6e17-4692-9584-5866fd6decbd",
   "metadata": {},
   "source": [
    "### Classification Report"
   ]
  },
  {
   "cell_type": "code",
   "execution_count": 26,
   "id": "17501745-b6ab-4b11-937b-89768d243e81",
   "metadata": {},
   "outputs": [
    {
     "name": "stdout",
     "output_type": "stream",
     "text": [
      "Test Accuracy SVM: 0.9961990032941972\n",
      "              precision    recall  f1-score   support\n",
      "\n",
      "        crlf       0.95      0.95      0.95        21\n",
      "         lfi       1.00      1.00      1.00      3973\n",
      "      normal       1.00      1.00      1.00      4404\n",
      "       nosql       1.00      0.50      0.67         2\n",
      "         rfi       1.00      1.00      1.00       455\n",
      "         sql       1.00      0.97      0.98       412\n",
      "         ssi       1.00      0.96      0.98        23\n",
      "        ssti       0.92      0.96      0.94        24\n",
      "         xss       0.99      0.99      0.99      2508\n",
      "         xxe       0.67      0.47      0.55        17\n",
      "\n",
      "    accuracy                           1.00     11839\n",
      "   macro avg       0.95      0.88      0.91     11839\n",
      "weighted avg       1.00      1.00      1.00     11839\n",
      "\n"
     ]
    }
   ],
   "source": [
    "print(\"Test Accuracy SVM:\", test_accuracy_svm)\n",
    "print(classification_report(y_test, test_prediction_svm))"
   ]
  },
  {
   "cell_type": "code",
   "execution_count": 27,
   "id": "ba954b0c-2386-4502-8151-93abfcde753b",
   "metadata": {},
   "outputs": [
    {
     "name": "stdout",
     "output_type": "stream",
     "text": [
      "[[  20    0    0    0    0    0    0    0    1    0]\n",
      " [   0 3970    2    0    0    0    0    0    1    0]\n",
      " [   0    0 4404    0    0    0    0    0    0    0]\n",
      " [   0    0    0    1    0    0    0    0    1    0]\n",
      " [   0    0    0    0  454    0    0    0    1    0]\n",
      " [   0    0    1    0    0  400    0    0   11    0]\n",
      " [   0    0    0    0    0    0   22    0    1    0]\n",
      " [   0    0    0    0    0    0    0   23    1    0]\n",
      " [   1    2    5    0    0    2    0    2 2492    4]\n",
      " [   0    0    0    0    0    0    0    0    9    8]]\n"
     ]
    }
   ],
   "source": [
    "cf_matrix_svm = confusion_matrix(y_test , test_prediction_svm)\n",
    "print(cf_matrix_svm)"
   ]
  },
  {
   "cell_type": "code",
   "execution_count": 32,
   "id": "815b2aac-3b5e-45ef-9b29-1c060db3f78e",
   "metadata": {},
   "outputs": [
    {
     "data": {
      "image/png": "[encoded data removed]",
      "text/plain": [
       "<Figure size 1000x700 with 2 Axes>"
      ]
     },
     "metadata": {},
     "output_type": "display_data"
    }
   ],
   "source": [
    "labels = list(set(y_test))\n",
    "print_confusion_matrix(cf_matrix_svm, class_names=labels);"
   ]
  },
  {
   "cell_type": "markdown",
   "id": "6748a9ee-c9cf-4cc5-b3f2-aa29d312942b",
   "metadata": {},
   "source": [
    "### Save Model SVM"
   ]
  },
  {
   "cell_type": "code",
   "execution_count": 33,
   "id": "52e36d7b-d8f2-4602-bbff-39bbc22848e6",
   "metadata": {},
   "outputs": [],
   "source": [
    "filename_model_svm = '../models/model_svm.pmal'\n",
    "pickle.dump(model_svm, open(filename_model_svm, 'wb'))"
   ]
  },
  {
   "cell_type": "markdown",
   "id": "1e916930-0656-4661-a48d-aa80edb5286f",
   "metadata": {},
   "source": [
    "### Test Model"
   ]
  },
  {
   "cell_type": "code",
   "execution_count": 48,
   "id": "86fd943a-61f7-4121-af02-41eed81a1a28",
   "metadata": {},
   "outputs": [],
   "source": [
    "loaded_model_svm = pickle.load(open(filename_model_svm, 'rb'))\n",
    "\n",
    "#List of payloads to test\n",
    "parameters = [\n",
    "    \"%3f%0dshivang:crlf=injection\", \n",
    "    \"query=home&homeprice=4300\",\n",
    "    \"perPage=10\",\n",
    "    \"#shivang\",\n",
    "    \"<pre><!--#exec cmd=\\\"id\\\"--></pre>\",\n",
    "    \"../\\\\\\\\\\\\../\\\\\\\\\\\\../\\\\\\\\\\\\etc/passwd%00%00\", \n",
    "    \"query=shivang)))' OR 1=2#-- -\", \n",
    "    \"something;|id|\", \n",
    "    \"{$gt: ''}\",\n",
    "    \"<img src=x onerror=\\\"&#0000106&#0000097&#0000118&#0000097&#0000115&#0000099&#0000114&#0000105&#0000112&#0000116&#0000058&#0000097&#0000108&#0000101&#0000114&#0000116&#0000040&#0000039&#0000088&#0000083&#0000083&#0000039&#0000041\\\">\",\n",
    "    \"1' ORDER BY 1,2,3--+\"\n",
    "]\n",
    "\n",
    "temp_array = []\n",
    "\n",
    "#Function acts as backend for payload detection\n",
    "def run_svm(parameters, temp_array):\n",
    "  for detect in range(len(parameters)):\n",
    "    temp_array.append(parameters[detect])\n",
    "    prediction = loaded_model_svm.predict(temp_array)\n",
    "    confidence_scores = 100*(np.round(loaded_model_svm.predict_proba(temp_array), 3))\n",
    "      \n",
    "    if \"normal\" in prediction:\n",
    "      print(\"\\n[+] You can access our site!\\n\", parameters[detect])\n",
    "    else:\n",
    "      print(\"[!] Attack detected!\")\n",
    "      for result in prediction:\n",
    "        print(f\"[~] Attack type\", result)\n",
    "    temp_array = []"
   ]
  },
  {
   "cell_type": "code",
   "execution_count": 49,
   "id": "c043c632-1fc0-463d-b96f-9f511e5ee47b",
   "metadata": {},
   "outputs": [
    {
     "name": "stdout",
     "output_type": "stream",
     "text": [
      "[!] Attack detected!\n",
      "[~] Attack type crlf\n",
      "\n",
      "[+] You can access our site!\n",
      " query=home&homeprice=4300\n",
      "\n",
      "[+] You can access our site!\n",
      " perPage=10\n",
      "[!] Attack detected!\n",
      "[~] Attack type xss\n",
      "[!] Attack detected!\n",
      "[~] Attack type ssi\n",
      "[!] Attack detected!\n",
      "[~] Attack type lfi\n",
      "[!] Attack detected!\n",
      "[~] Attack type sql\n",
      "[!] Attack detected!\n",
      "[~] Attack type xss\n",
      "[!] Attack detected!\n",
      "[~] Attack type nosql\n",
      "[!] Attack detected!\n",
      "[~] Attack type xss\n",
      "[!] Attack detected!\n",
      "[~] Attack type sql\n"
     ]
    }
   ],
   "source": [
    "run_svm(parameters, temp_array)"
   ]
  },
  {
   "cell_type": "markdown",
   "id": "d392187e-762f-43d7-baed-ca2bb01eaa1a",
   "metadata": {},
   "source": [
    "## KNN\n",
    "### Grid Search for Hyperameter Tuning KNN"
   ]
  },
  {
   "cell_type": "code",
   "execution_count": 100,
   "id": "3a93352f-3a2b-48b3-8b31-6096e7fa77ba",
   "metadata": {},
   "outputs": [],
   "source": [
    "pipe = make_pipeline(\n",
    "    TfidfVectorizer(input = 'content', lowercase = True, analyzer = 'char', max_features = 1024), \n",
    "    KNeighborsClassifier()\n",
    ")\n",
    "\n",
    "kf=KFold(n_splits=2, shuffle=True, random_state=42)\n",
    "\n",
    "parameter_grid_knn = {\n",
    "    'tfidfvectorizer__ngram_range': [(1, 1), (1, 2), (1, 4)],\n",
    "    'kneighborsclassifier__n_neighbors': np.arange(2, 30, 1)\n",
    "}"
   ]
  },
  {
   "cell_type": "code",
   "execution_count": 101,
   "id": "45195fbe-fe66-4fad-b102-e09598fe41c7",
   "metadata": {},
   "outputs": [
    {
     "name": "stdout",
     "output_type": "stream",
     "text": [
      "Fitting 2 folds for each of 84 candidates, totalling 168 fits\n",
      "[CV 1/2] END kneighborsclassifier__n_neighbors=2, tfidfvectorizer__ngram_range=(1, 1);, score=0.986 total time=  23.9s\n",
      "[CV 2/2] END kneighborsclassifier__n_neighbors=2, tfidfvectorizer__ngram_range=(1, 1);, score=0.989 total time=  23.7s\n",
      "[CV 1/2] END kneighborsclassifier__n_neighbors=2, tfidfvectorizer__ngram_range=(1, 2);, score=0.983 total time= 3.2min\n",
      "[CV 2/2] END kneighborsclassifier__n_neighbors=2, tfidfvectorizer__ngram_range=(1, 2);, score=0.926 total time= 3.3min\n",
      "[CV 1/2] END kneighborsclassifier__n_neighbors=2, tfidfvectorizer__ngram_range=(1, 4);, score=0.984 total time= 3.8min\n",
      "[CV 2/2] END kneighborsclassifier__n_neighbors=2, tfidfvectorizer__ngram_range=(1, 4);, score=0.945 total time= 3.8min\n",
      "[CV 1/2] END kneighborsclassifier__n_neighbors=3, tfidfvectorizer__ngram_range=(1, 1);, score=0.987 total time=  23.5s\n",
      "[CV 2/2] END kneighborsclassifier__n_neighbors=3, tfidfvectorizer__ngram_range=(1, 1);, score=0.990 total time=  23.4s\n",
      "[CV 1/2] END kneighborsclassifier__n_neighbors=3, tfidfvectorizer__ngram_range=(1, 2);, score=0.985 total time= 3.2min\n",
      "[CV 2/2] END kneighborsclassifier__n_neighbors=3, tfidfvectorizer__ngram_range=(1, 2);, score=0.918 total time= 3.2min\n",
      "[CV 1/2] END kneighborsclassifier__n_neighbors=3, tfidfvectorizer__ngram_range=(1, 4);, score=0.986 total time= 3.8min\n",
      "[CV 2/2] END kneighborsclassifier__n_neighbors=3, tfidfvectorizer__ngram_range=(1, 4);, score=0.937 total time= 3.8min\n",
      "[CV 1/2] END kneighborsclassifier__n_neighbors=4, tfidfvectorizer__ngram_range=(1, 1);, score=0.986 total time=  23.5s\n",
      "[CV 2/2] END kneighborsclassifier__n_neighbors=4, tfidfvectorizer__ngram_range=(1, 1);, score=0.989 total time=  23.2s\n",
      "[CV 1/2] END kneighborsclassifier__n_neighbors=4, tfidfvectorizer__ngram_range=(1, 2);, score=0.986 total time= 3.2min\n",
      "[CV 2/2] END kneighborsclassifier__n_neighbors=4, tfidfvectorizer__ngram_range=(1, 2);, score=0.985 total time= 3.4min\n",
      "[CV 1/2] END kneighborsclassifier__n_neighbors=4, tfidfvectorizer__ngram_range=(1, 4);, score=0.986 total time= 3.9min\n",
      "[CV 2/2] END kneighborsclassifier__n_neighbors=4, tfidfvectorizer__ngram_range=(1, 4);, score=0.938 total time= 3.8min\n",
      "[CV 1/2] END kneighborsclassifier__n_neighbors=5, tfidfvectorizer__ngram_range=(1, 1);, score=0.986 total time=  24.0s\n",
      "[CV 2/2] END kneighborsclassifier__n_neighbors=5, tfidfvectorizer__ngram_range=(1, 1);, score=0.988 total time=  23.3s\n",
      "[CV 1/2] END kneighborsclassifier__n_neighbors=5, tfidfvectorizer__ngram_range=(1, 2);, score=0.987 total time= 3.2min\n",
      "[CV 2/2] END kneighborsclassifier__n_neighbors=5, tfidfvectorizer__ngram_range=(1, 2);, score=0.989 total time= 3.2min\n",
      "[CV 1/2] END kneighborsclassifier__n_neighbors=5, tfidfvectorizer__ngram_range=(1, 4);, score=0.985 total time= 3.8min\n",
      "[CV 2/2] END kneighborsclassifier__n_neighbors=5, tfidfvectorizer__ngram_range=(1, 4);, score=0.938 total time= 3.8min\n",
      "[CV 1/2] END kneighborsclassifier__n_neighbors=6, tfidfvectorizer__ngram_range=(1, 1);, score=0.985 total time=  23.5s\n",
      "[CV 2/2] END kneighborsclassifier__n_neighbors=6, tfidfvectorizer__ngram_range=(1, 1);, score=0.988 total time=  23.5s\n",
      "[CV 1/2] END kneighborsclassifier__n_neighbors=6, tfidfvectorizer__ngram_range=(1, 2);, score=0.987 total time= 3.2min\n",
      "[CV 2/2] END kneighborsclassifier__n_neighbors=6, tfidfvectorizer__ngram_range=(1, 2);, score=0.989 total time= 3.2min\n",
      "[CV 1/2] END kneighborsclassifier__n_neighbors=6, tfidfvectorizer__ngram_range=(1, 4);, score=0.986 total time= 3.8min\n",
      "[CV 2/2] END kneighborsclassifier__n_neighbors=6, tfidfvectorizer__ngram_range=(1, 4);, score=0.983 total time= 3.8min\n",
      "[CV 1/2] END kneighborsclassifier__n_neighbors=7, tfidfvectorizer__ngram_range=(1, 1);, score=0.985 total time=  23.5s\n",
      "[CV 2/2] END kneighborsclassifier__n_neighbors=7, tfidfvectorizer__ngram_range=(1, 1);, score=0.988 total time=  23.6s\n",
      "[CV 1/2] END kneighborsclassifier__n_neighbors=7, tfidfvectorizer__ngram_range=(1, 2);, score=0.987 total time= 3.2min\n",
      "[CV 2/2] END kneighborsclassifier__n_neighbors=7, tfidfvectorizer__ngram_range=(1, 2);, score=0.989 total time= 3.3min\n",
      "[CV 1/2] END kneighborsclassifier__n_neighbors=7, tfidfvectorizer__ngram_range=(1, 4);, score=0.986 total time= 3.8min\n",
      "[CV 2/2] END kneighborsclassifier__n_neighbors=7, tfidfvectorizer__ngram_range=(1, 4);, score=0.987 total time= 3.8min\n",
      "[CV 1/2] END kneighborsclassifier__n_neighbors=8, tfidfvectorizer__ngram_range=(1, 1);, score=0.985 total time=  23.5s\n",
      "[CV 2/2] END kneighborsclassifier__n_neighbors=8, tfidfvectorizer__ngram_range=(1, 1);, score=0.987 total time=  23.3s\n",
      "[CV 1/2] END kneighborsclassifier__n_neighbors=8, tfidfvectorizer__ngram_range=(1, 2);, score=0.987 total time= 3.2min\n",
      "[CV 2/2] END kneighborsclassifier__n_neighbors=8, tfidfvectorizer__ngram_range=(1, 2);, score=0.989 total time= 3.2min\n",
      "[CV 1/2] END kneighborsclassifier__n_neighbors=8, tfidfvectorizer__ngram_range=(1, 4);, score=0.986 total time= 3.8min\n",
      "[CV 2/2] END kneighborsclassifier__n_neighbors=8, tfidfvectorizer__ngram_range=(1, 4);, score=0.989 total time= 3.8min\n",
      "[CV 1/2] END kneighborsclassifier__n_neighbors=9, tfidfvectorizer__ngram_range=(1, 1);, score=0.985 total time=  23.6s\n",
      "[CV 2/2] END kneighborsclassifier__n_neighbors=9, tfidfvectorizer__ngram_range=(1, 1);, score=0.986 total time=  23.7s\n",
      "[CV 1/2] END kneighborsclassifier__n_neighbors=9, tfidfvectorizer__ngram_range=(1, 2);, score=0.987 total time= 3.3min\n",
      "[CV 2/2] END kneighborsclassifier__n_neighbors=9, tfidfvectorizer__ngram_range=(1, 2);, score=0.989 total time= 3.2min\n",
      "[CV 1/2] END kneighborsclassifier__n_neighbors=9, tfidfvectorizer__ngram_range=(1, 4);, score=0.986 total time= 3.8min\n",
      "[CV 2/2] END kneighborsclassifier__n_neighbors=9, tfidfvectorizer__ngram_range=(1, 4);, score=0.989 total time= 3.8min\n",
      "[CV 1/2] END kneighborsclassifier__n_neighbors=10, tfidfvectorizer__ngram_range=(1, 1);, score=0.983 total time=  23.7s\n",
      "[CV 2/2] END kneighborsclassifier__n_neighbors=10, tfidfvectorizer__ngram_range=(1, 1);, score=0.985 total time=  23.3s\n",
      "[CV 1/2] END kneighborsclassifier__n_neighbors=10, tfidfvectorizer__ngram_range=(1, 2);, score=0.987 total time= 3.2min\n",
      "[CV 2/2] END kneighborsclassifier__n_neighbors=10, tfidfvectorizer__ngram_range=(1, 2);, score=0.988 total time= 3.2min\n",
      "[CV 1/2] END kneighborsclassifier__n_neighbors=10, tfidfvectorizer__ngram_range=(1, 4);, score=0.985 total time= 3.8min\n",
      "[CV 2/2] END kneighborsclassifier__n_neighbors=10, tfidfvectorizer__ngram_range=(1, 4);, score=0.989 total time= 3.8min\n",
      "[CV 1/2] END kneighborsclassifier__n_neighbors=11, tfidfvectorizer__ngram_range=(1, 1);, score=0.984 total time=  23.8s\n",
      "[CV 2/2] END kneighborsclassifier__n_neighbors=11, tfidfvectorizer__ngram_range=(1, 1);, score=0.985 total time=  23.6s\n",
      "[CV 1/2] END kneighborsclassifier__n_neighbors=11, tfidfvectorizer__ngram_range=(1, 2);, score=0.987 total time= 3.3min\n",
      "[CV 2/2] END kneighborsclassifier__n_neighbors=11, tfidfvectorizer__ngram_range=(1, 2);, score=0.988 total time= 3.3min\n",
      "[CV 1/2] END kneighborsclassifier__n_neighbors=11, tfidfvectorizer__ngram_range=(1, 4);, score=0.986 total time= 3.8min\n",
      "[CV 2/2] END kneighborsclassifier__n_neighbors=11, tfidfvectorizer__ngram_range=(1, 4);, score=0.989 total time= 3.8min\n",
      "[CV 1/2] END kneighborsclassifier__n_neighbors=12, tfidfvectorizer__ngram_range=(1, 1);, score=0.984 total time=  24.1s\n",
      "[CV 2/2] END kneighborsclassifier__n_neighbors=12, tfidfvectorizer__ngram_range=(1, 1);, score=0.984 total time=  23.3s\n",
      "[CV 1/2] END kneighborsclassifier__n_neighbors=12, tfidfvectorizer__ngram_range=(1, 2);, score=0.986 total time= 3.3min\n",
      "[CV 2/2] END kneighborsclassifier__n_neighbors=12, tfidfvectorizer__ngram_range=(1, 2);, score=0.988 total time= 3.2min\n",
      "[CV 1/2] END kneighborsclassifier__n_neighbors=12, tfidfvectorizer__ngram_range=(1, 4);, score=0.985 total time= 3.8min\n",
      "[CV 2/2] END kneighborsclassifier__n_neighbors=12, tfidfvectorizer__ngram_range=(1, 4);, score=0.988 total time= 3.8min\n",
      "[CV 1/2] END kneighborsclassifier__n_neighbors=13, tfidfvectorizer__ngram_range=(1, 1);, score=0.984 total time=  23.7s\n",
      "[CV 2/2] END kneighborsclassifier__n_neighbors=13, tfidfvectorizer__ngram_range=(1, 1);, score=0.984 total time=  23.9s\n",
      "[CV 1/2] END kneighborsclassifier__n_neighbors=13, tfidfvectorizer__ngram_range=(1, 2);, score=0.986 total time= 3.3min\n",
      "[CV 2/2] END kneighborsclassifier__n_neighbors=13, tfidfvectorizer__ngram_range=(1, 2);, score=0.988 total time= 3.3min\n",
      "[CV 1/2] END kneighborsclassifier__n_neighbors=13, tfidfvectorizer__ngram_range=(1, 4);, score=0.986 total time= 3.8min\n",
      "[CV 2/2] END kneighborsclassifier__n_neighbors=13, tfidfvectorizer__ngram_range=(1, 4);, score=0.988 total time= 3.8min\n",
      "[CV 1/2] END kneighborsclassifier__n_neighbors=14, tfidfvectorizer__ngram_range=(1, 1);, score=0.983 total time=  23.8s\n",
      "[CV 2/2] END kneighborsclassifier__n_neighbors=14, tfidfvectorizer__ngram_range=(1, 1);, score=0.984 total time=  23.4s\n",
      "[CV 1/2] END kneighborsclassifier__n_neighbors=14, tfidfvectorizer__ngram_range=(1, 2);, score=0.986 total time= 3.3min\n",
      "[CV 2/2] END kneighborsclassifier__n_neighbors=14, tfidfvectorizer__ngram_range=(1, 2);, score=0.987 total time= 3.3min\n",
      "[CV 1/2] END kneighborsclassifier__n_neighbors=14, tfidfvectorizer__ngram_range=(1, 4);, score=0.985 total time= 3.8min\n",
      "[CV 2/2] END kneighborsclassifier__n_neighbors=14, tfidfvectorizer__ngram_range=(1, 4);, score=0.988 total time= 3.8min\n",
      "[CV 1/2] END kneighborsclassifier__n_neighbors=15, tfidfvectorizer__ngram_range=(1, 1);, score=0.983 total time=  24.3s\n",
      "[CV 2/2] END kneighborsclassifier__n_neighbors=15, tfidfvectorizer__ngram_range=(1, 1);, score=0.984 total time=  23.8s\n",
      "[CV 1/2] END kneighborsclassifier__n_neighbors=15, tfidfvectorizer__ngram_range=(1, 2);, score=0.987 total time= 3.3min\n",
      "[CV 2/2] END kneighborsclassifier__n_neighbors=15, tfidfvectorizer__ngram_range=(1, 2);, score=0.987 total time= 3.3min\n",
      "[CV 1/2] END kneighborsclassifier__n_neighbors=15, tfidfvectorizer__ngram_range=(1, 4);, score=0.985 total time= 3.8min\n",
      "[CV 2/2] END kneighborsclassifier__n_neighbors=15, tfidfvectorizer__ngram_range=(1, 4);, score=0.987 total time= 3.8min\n",
      "[CV 1/2] END kneighborsclassifier__n_neighbors=16, tfidfvectorizer__ngram_range=(1, 1);, score=0.983 total time=  23.9s\n",
      "[CV 2/2] END kneighborsclassifier__n_neighbors=16, tfidfvectorizer__ngram_range=(1, 1);, score=0.984 total time=  23.6s\n",
      "[CV 1/2] END kneighborsclassifier__n_neighbors=16, tfidfvectorizer__ngram_range=(1, 2);, score=0.986 total time= 3.3min\n",
      "[CV 2/2] END kneighborsclassifier__n_neighbors=16, tfidfvectorizer__ngram_range=(1, 2);, score=0.987 total time= 3.3min\n",
      "[CV 1/2] END kneighborsclassifier__n_neighbors=16, tfidfvectorizer__ngram_range=(1, 4);, score=0.985 total time= 3.9min\n",
      "[CV 2/2] END kneighborsclassifier__n_neighbors=16, tfidfvectorizer__ngram_range=(1, 4);, score=0.987 total time= 3.8min\n",
      "[CV 1/2] END kneighborsclassifier__n_neighbors=17, tfidfvectorizer__ngram_range=(1, 1);, score=0.983 total time=  23.9s\n",
      "[CV 2/2] END kneighborsclassifier__n_neighbors=17, tfidfvectorizer__ngram_range=(1, 1);, score=0.983 total time=  23.7s\n",
      "[CV 1/2] END kneighborsclassifier__n_neighbors=17, tfidfvectorizer__ngram_range=(1, 2);, score=0.986 total time= 3.3min\n",
      "[CV 2/2] END kneighborsclassifier__n_neighbors=17, tfidfvectorizer__ngram_range=(1, 2);, score=0.987 total time= 3.3min\n",
      "[CV 1/2] END kneighborsclassifier__n_neighbors=17, tfidfvectorizer__ngram_range=(1, 4);, score=0.984 total time= 3.8min\n",
      "[CV 2/2] END kneighborsclassifier__n_neighbors=17, tfidfvectorizer__ngram_range=(1, 4);, score=0.987 total time= 3.8min\n",
      "[CV 1/2] END kneighborsclassifier__n_neighbors=18, tfidfvectorizer__ngram_range=(1, 1);, score=0.982 total time=  23.8s\n",
      "[CV 2/2] END kneighborsclassifier__n_neighbors=18, tfidfvectorizer__ngram_range=(1, 1);, score=0.983 total time=  23.7s\n",
      "[CV 1/2] END kneighborsclassifier__n_neighbors=18, tfidfvectorizer__ngram_range=(1, 2);, score=0.986 total time= 3.3min\n",
      "[CV 2/2] END kneighborsclassifier__n_neighbors=18, tfidfvectorizer__ngram_range=(1, 2);, score=0.986 total time= 3.3min\n",
      "[CV 1/2] END kneighborsclassifier__n_neighbors=18, tfidfvectorizer__ngram_range=(1, 4);, score=0.984 total time= 3.9min\n",
      "[CV 2/2] END kneighborsclassifier__n_neighbors=18, tfidfvectorizer__ngram_range=(1, 4);, score=0.987 total time= 3.9min\n",
      "[CV 1/2] END kneighborsclassifier__n_neighbors=19, tfidfvectorizer__ngram_range=(1, 1);, score=0.982 total time=  24.0s\n",
      "[CV 2/2] END kneighborsclassifier__n_neighbors=19, tfidfvectorizer__ngram_range=(1, 1);, score=0.983 total time=  24.0s\n",
      "[CV 1/2] END kneighborsclassifier__n_neighbors=19, tfidfvectorizer__ngram_range=(1, 2);, score=0.986 total time= 3.3min\n",
      "[CV 2/2] END kneighborsclassifier__n_neighbors=19, tfidfvectorizer__ngram_range=(1, 2);, score=0.986 total time= 3.3min\n",
      "[CV 1/2] END kneighborsclassifier__n_neighbors=19, tfidfvectorizer__ngram_range=(1, 4);, score=0.984 total time= 3.9min\n",
      "[CV 2/2] END kneighborsclassifier__n_neighbors=19, tfidfvectorizer__ngram_range=(1, 4);, score=0.986 total time= 3.9min\n",
      "[CV 1/2] END kneighborsclassifier__n_neighbors=20, tfidfvectorizer__ngram_range=(1, 1);, score=0.982 total time=  23.9s\n",
      "[CV 2/2] END kneighborsclassifier__n_neighbors=20, tfidfvectorizer__ngram_range=(1, 1);, score=0.983 total time=  23.6s\n",
      "[CV 1/2] END kneighborsclassifier__n_neighbors=20, tfidfvectorizer__ngram_range=(1, 2);, score=0.985 total time= 3.3min\n",
      "[CV 2/2] END kneighborsclassifier__n_neighbors=20, tfidfvectorizer__ngram_range=(1, 2);, score=0.986 total time= 3.3min\n",
      "[CV 1/2] END kneighborsclassifier__n_neighbors=20, tfidfvectorizer__ngram_range=(1, 4);, score=0.984 total time= 3.9min\n",
      "[CV 2/2] END kneighborsclassifier__n_neighbors=20, tfidfvectorizer__ngram_range=(1, 4);, score=0.986 total time= 3.8min\n",
      "[CV 1/2] END kneighborsclassifier__n_neighbors=21, tfidfvectorizer__ngram_range=(1, 1);, score=0.981 total time=  23.8s\n",
      "[CV 2/2] END kneighborsclassifier__n_neighbors=21, tfidfvectorizer__ngram_range=(1, 1);, score=0.983 total time=  23.7s\n",
      "[CV 1/2] END kneighborsclassifier__n_neighbors=21, tfidfvectorizer__ngram_range=(1, 2);, score=0.985 total time= 3.3min\n",
      "[CV 2/2] END kneighborsclassifier__n_neighbors=21, tfidfvectorizer__ngram_range=(1, 2);, score=0.986 total time= 3.3min\n",
      "[CV 1/2] END kneighborsclassifier__n_neighbors=21, tfidfvectorizer__ngram_range=(1, 4);, score=0.983 total time= 3.9min\n",
      "[CV 2/2] END kneighborsclassifier__n_neighbors=21, tfidfvectorizer__ngram_range=(1, 4);, score=0.986 total time= 3.9min\n",
      "[CV 1/2] END kneighborsclassifier__n_neighbors=22, tfidfvectorizer__ngram_range=(1, 1);, score=0.981 total time=  23.9s\n",
      "[CV 2/2] END kneighborsclassifier__n_neighbors=22, tfidfvectorizer__ngram_range=(1, 1);, score=0.983 total time=  23.8s\n",
      "[CV 1/2] END kneighborsclassifier__n_neighbors=22, tfidfvectorizer__ngram_range=(1, 2);, score=0.985 total time= 3.3min\n",
      "[CV 2/2] END kneighborsclassifier__n_neighbors=22, tfidfvectorizer__ngram_range=(1, 2);, score=0.986 total time= 3.3min\n",
      "[CV 1/2] END kneighborsclassifier__n_neighbors=22, tfidfvectorizer__ngram_range=(1, 4);, score=0.983 total time= 3.9min\n",
      "[CV 2/2] END kneighborsclassifier__n_neighbors=22, tfidfvectorizer__ngram_range=(1, 4);, score=0.986 total time= 3.9min\n",
      "[CV 1/2] END kneighborsclassifier__n_neighbors=23, tfidfvectorizer__ngram_range=(1, 1);, score=0.981 total time=  24.2s\n",
      "[CV 2/2] END kneighborsclassifier__n_neighbors=23, tfidfvectorizer__ngram_range=(1, 1);, score=0.982 total time=  23.8s\n",
      "[CV 1/2] END kneighborsclassifier__n_neighbors=23, tfidfvectorizer__ngram_range=(1, 2);, score=0.985 total time= 3.3min\n",
      "[CV 2/2] END kneighborsclassifier__n_neighbors=23, tfidfvectorizer__ngram_range=(1, 2);, score=0.986 total time= 3.3min\n",
      "[CV 1/2] END kneighborsclassifier__n_neighbors=23, tfidfvectorizer__ngram_range=(1, 4);, score=0.983 total time= 3.9min\n",
      "[CV 2/2] END kneighborsclassifier__n_neighbors=23, tfidfvectorizer__ngram_range=(1, 4);, score=0.986 total time= 3.9min\n",
      "[CV 1/2] END kneighborsclassifier__n_neighbors=24, tfidfvectorizer__ngram_range=(1, 1);, score=0.981 total time=  24.0s\n",
      "[CV 2/2] END kneighborsclassifier__n_neighbors=24, tfidfvectorizer__ngram_range=(1, 1);, score=0.982 total time=  23.6s\n",
      "[CV 1/2] END kneighborsclassifier__n_neighbors=24, tfidfvectorizer__ngram_range=(1, 2);, score=0.985 total time= 3.3min\n",
      "[CV 2/2] END kneighborsclassifier__n_neighbors=24, tfidfvectorizer__ngram_range=(1, 2);, score=0.986 total time= 3.3min\n",
      "[CV 1/2] END kneighborsclassifier__n_neighbors=24, tfidfvectorizer__ngram_range=(1, 4);, score=0.983 total time= 3.9min\n",
      "[CV 2/2] END kneighborsclassifier__n_neighbors=24, tfidfvectorizer__ngram_range=(1, 4);, score=0.986 total time= 3.9min\n",
      "[CV 1/2] END kneighborsclassifier__n_neighbors=25, tfidfvectorizer__ngram_range=(1, 1);, score=0.981 total time=  24.2s\n",
      "[CV 2/2] END kneighborsclassifier__n_neighbors=25, tfidfvectorizer__ngram_range=(1, 1);, score=0.982 total time=  23.9s\n",
      "[CV 1/2] END kneighborsclassifier__n_neighbors=25, tfidfvectorizer__ngram_range=(1, 2);, score=0.984 total time= 3.3min\n",
      "[CV 2/2] END kneighborsclassifier__n_neighbors=25, tfidfvectorizer__ngram_range=(1, 2);, score=0.986 total time= 3.3min\n",
      "[CV 1/2] END kneighborsclassifier__n_neighbors=25, tfidfvectorizer__ngram_range=(1, 4);, score=0.983 total time= 3.9min\n",
      "[CV 2/2] END kneighborsclassifier__n_neighbors=25, tfidfvectorizer__ngram_range=(1, 4);, score=0.986 total time= 3.9min\n",
      "[CV 1/2] END kneighborsclassifier__n_neighbors=26, tfidfvectorizer__ngram_range=(1, 1);, score=0.981 total time=  24.1s\n",
      "[CV 2/2] END kneighborsclassifier__n_neighbors=26, tfidfvectorizer__ngram_range=(1, 1);, score=0.982 total time=  23.8s\n"
     ]
    },
    {
     "ename": "KeyboardInterrupt",
     "evalue": "",
     "output_type": "error",
     "traceback": [
      "\u001b[0;31m---------------------------------------------------------------------------\u001b[0m",
      "\u001b[0;31mKeyboardInterrupt\u001b[0m                         Traceback (most recent call last)",
      "Cell \u001b[0;32mIn[101], line 3\u001b[0m\n\u001b[1;32m      1\u001b[0m knn \u001b[38;5;241m=\u001b[39m KNeighborsClassifier()\n\u001b[1;32m      2\u001b[0m knn_cv \u001b[38;5;241m=\u001b[39m GridSearchCV(pipe, param_grid\u001b[38;5;241m=\u001b[39mparameter_grid_knn, cv\u001b[38;5;241m=\u001b[39mkf, verbose\u001b[38;5;241m=\u001b[39m\u001b[38;5;241m4\u001b[39m)\n\u001b[0;32m----> 3\u001b[0m \u001b[43mknn_cv\u001b[49m\u001b[38;5;241;43m.\u001b[39;49m\u001b[43mfit\u001b[49m\u001b[43m(\u001b[49m\u001b[43mX_train\u001b[49m\u001b[43m,\u001b[49m\u001b[43m \u001b[49m\u001b[43my_train\u001b[49m\u001b[43m)\u001b[49m\n",
      "File \u001b[0;32m~/anaconda3/lib/python3.10/site-packages/sklearn/model_selection/_search.py:874\u001b[0m, in \u001b[0;36mBaseSearchCV.fit\u001b[0;34m(self, X, y, groups, **fit_params)\u001b[0m\n\u001b[1;32m    868\u001b[0m     results \u001b[38;5;241m=\u001b[39m \u001b[38;5;28mself\u001b[39m\u001b[38;5;241m.\u001b[39m_format_results(\n\u001b[1;32m    869\u001b[0m         all_candidate_params, n_splits, all_out, all_more_results\n\u001b[1;32m    870\u001b[0m     )\n\u001b[1;32m    872\u001b[0m     \u001b[38;5;28;01mreturn\u001b[39;00m results\n\u001b[0;32m--> 874\u001b[0m \u001b[38;5;28;43mself\u001b[39;49m\u001b[38;5;241;43m.\u001b[39;49m\u001b[43m_run_search\u001b[49m\u001b[43m(\u001b[49m\u001b[43mevaluate_candidates\u001b[49m\u001b[43m)\u001b[49m\n\u001b[1;32m    876\u001b[0m \u001b[38;5;66;03m# multimetric is determined here because in the case of a callable\u001b[39;00m\n\u001b[1;32m    877\u001b[0m \u001b[38;5;66;03m# self.scoring the return type is only known after calling\u001b[39;00m\n\u001b[1;32m    878\u001b[0m first_test_score \u001b[38;5;241m=\u001b[39m all_out[\u001b[38;5;241m0\u001b[39m][\u001b[38;5;124m\"\u001b[39m\u001b[38;5;124mtest_scores\u001b[39m\u001b[38;5;124m\"\u001b[39m]\n",
      "File \u001b[0;32m~/anaconda3/lib/python3.10/site-packages/sklearn/model_selection/_search.py:1388\u001b[0m, in \u001b[0;36mGridSearchCV._run_search\u001b[0;34m(self, evaluate_candidates)\u001b[0m\n\u001b[1;32m   1386\u001b[0m \u001b[38;5;28;01mdef\u001b[39;00m \u001b[38;5;21m_run_search\u001b[39m(\u001b[38;5;28mself\u001b[39m, evaluate_candidates):\n\u001b[1;32m   1387\u001b[0m \u001b[38;5;250m    \u001b[39m\u001b[38;5;124;03m\"\"\"Search all candidates in param_grid\"\"\"\u001b[39;00m\n\u001b[0;32m-> 1388\u001b[0m     \u001b[43mevaluate_candidates\u001b[49m\u001b[43m(\u001b[49m\u001b[43mParameterGrid\u001b[49m\u001b[43m(\u001b[49m\u001b[38;5;28;43mself\u001b[39;49m\u001b[38;5;241;43m.\u001b[39;49m\u001b[43mparam_grid\u001b[49m\u001b[43m)\u001b[49m\u001b[43m)\u001b[49m\n",
      "File \u001b[0;32m~/anaconda3/lib/python3.10/site-packages/sklearn/model_selection/_search.py:821\u001b[0m, in \u001b[0;36mBaseSearchCV.fit.<locals>.evaluate_candidates\u001b[0;34m(candidate_params, cv, more_results)\u001b[0m\n\u001b[1;32m    813\u001b[0m \u001b[38;5;28;01mif\u001b[39;00m \u001b[38;5;28mself\u001b[39m\u001b[38;5;241m.\u001b[39mverbose \u001b[38;5;241m>\u001b[39m \u001b[38;5;241m0\u001b[39m:\n\u001b[1;32m    814\u001b[0m     \u001b[38;5;28mprint\u001b[39m(\n\u001b[1;32m    815\u001b[0m         \u001b[38;5;124m\"\u001b[39m\u001b[38;5;124mFitting \u001b[39m\u001b[38;5;132;01m{0}\u001b[39;00m\u001b[38;5;124m folds for each of \u001b[39m\u001b[38;5;132;01m{1}\u001b[39;00m\u001b[38;5;124m candidates,\u001b[39m\u001b[38;5;124m\"\u001b[39m\n\u001b[1;32m    816\u001b[0m         \u001b[38;5;124m\"\u001b[39m\u001b[38;5;124m totalling \u001b[39m\u001b[38;5;132;01m{2}\u001b[39;00m\u001b[38;5;124m fits\u001b[39m\u001b[38;5;124m\"\u001b[39m\u001b[38;5;241m.\u001b[39mformat(\n\u001b[1;32m    817\u001b[0m             n_splits, n_candidates, n_candidates \u001b[38;5;241m*\u001b[39m n_splits\n\u001b[1;32m    818\u001b[0m         )\n\u001b[1;32m    819\u001b[0m     )\n\u001b[0;32m--> 821\u001b[0m out \u001b[38;5;241m=\u001b[39m \u001b[43mparallel\u001b[49m\u001b[43m(\u001b[49m\n\u001b[1;32m    822\u001b[0m \u001b[43m    \u001b[49m\u001b[43mdelayed\u001b[49m\u001b[43m(\u001b[49m\u001b[43m_fit_and_score\u001b[49m\u001b[43m)\u001b[49m\u001b[43m(\u001b[49m\n\u001b[1;32m    823\u001b[0m \u001b[43m        \u001b[49m\u001b[43mclone\u001b[49m\u001b[43m(\u001b[49m\u001b[43mbase_estimator\u001b[49m\u001b[43m)\u001b[49m\u001b[43m,\u001b[49m\n\u001b[1;32m    824\u001b[0m \u001b[43m        \u001b[49m\u001b[43mX\u001b[49m\u001b[43m,\u001b[49m\n\u001b[1;32m    825\u001b[0m \u001b[43m        \u001b[49m\u001b[43my\u001b[49m\u001b[43m,\u001b[49m\n\u001b[1;32m    826\u001b[0m \u001b[43m        \u001b[49m\u001b[43mtrain\u001b[49m\u001b[38;5;241;43m=\u001b[39;49m\u001b[43mtrain\u001b[49m\u001b[43m,\u001b[49m\n\u001b[1;32m    827\u001b[0m \u001b[43m        \u001b[49m\u001b[43mtest\u001b[49m\u001b[38;5;241;43m=\u001b[39;49m\u001b[43mtest\u001b[49m\u001b[43m,\u001b[49m\n\u001b[1;32m    828\u001b[0m \u001b[43m        \u001b[49m\u001b[43mparameters\u001b[49m\u001b[38;5;241;43m=\u001b[39;49m\u001b[43mparameters\u001b[49m\u001b[43m,\u001b[49m\n\u001b[1;32m    829\u001b[0m \u001b[43m        \u001b[49m\u001b[43msplit_progress\u001b[49m\u001b[38;5;241;43m=\u001b[39;49m\u001b[43m(\u001b[49m\u001b[43msplit_idx\u001b[49m\u001b[43m,\u001b[49m\u001b[43m \u001b[49m\u001b[43mn_splits\u001b[49m\u001b[43m)\u001b[49m\u001b[43m,\u001b[49m\n\u001b[1;32m    830\u001b[0m \u001b[43m        \u001b[49m\u001b[43mcandidate_progress\u001b[49m\u001b[38;5;241;43m=\u001b[39;49m\u001b[43m(\u001b[49m\u001b[43mcand_idx\u001b[49m\u001b[43m,\u001b[49m\u001b[43m \u001b[49m\u001b[43mn_candidates\u001b[49m\u001b[43m)\u001b[49m\u001b[43m,\u001b[49m\n\u001b[1;32m    831\u001b[0m \u001b[43m        \u001b[49m\u001b[38;5;241;43m*\u001b[39;49m\u001b[38;5;241;43m*\u001b[39;49m\u001b[43mfit_and_score_kwargs\u001b[49m\u001b[43m,\u001b[49m\n\u001b[1;32m    832\u001b[0m \u001b[43m    \u001b[49m\u001b[43m)\u001b[49m\n\u001b[1;32m    833\u001b[0m \u001b[43m    \u001b[49m\u001b[38;5;28;43;01mfor\u001b[39;49;00m\u001b[43m \u001b[49m\u001b[43m(\u001b[49m\u001b[43mcand_idx\u001b[49m\u001b[43m,\u001b[49m\u001b[43m \u001b[49m\u001b[43mparameters\u001b[49m\u001b[43m)\u001b[49m\u001b[43m,\u001b[49m\u001b[43m \u001b[49m\u001b[43m(\u001b[49m\u001b[43msplit_idx\u001b[49m\u001b[43m,\u001b[49m\u001b[43m \u001b[49m\u001b[43m(\u001b[49m\u001b[43mtrain\u001b[49m\u001b[43m,\u001b[49m\u001b[43m \u001b[49m\u001b[43mtest\u001b[49m\u001b[43m)\u001b[49m\u001b[43m)\u001b[49m\u001b[43m \u001b[49m\u001b[38;5;129;43;01min\u001b[39;49;00m\u001b[43m \u001b[49m\u001b[43mproduct\u001b[49m\u001b[43m(\u001b[49m\n\u001b[1;32m    834\u001b[0m \u001b[43m        \u001b[49m\u001b[38;5;28;43menumerate\u001b[39;49m\u001b[43m(\u001b[49m\u001b[43mcandidate_params\u001b[49m\u001b[43m)\u001b[49m\u001b[43m,\u001b[49m\u001b[43m \u001b[49m\u001b[38;5;28;43menumerate\u001b[39;49m\u001b[43m(\u001b[49m\u001b[43mcv\u001b[49m\u001b[38;5;241;43m.\u001b[39;49m\u001b[43msplit\u001b[49m\u001b[43m(\u001b[49m\u001b[43mX\u001b[49m\u001b[43m,\u001b[49m\u001b[43m \u001b[49m\u001b[43my\u001b[49m\u001b[43m,\u001b[49m\u001b[43m \u001b[49m\u001b[43mgroups\u001b[49m\u001b[43m)\u001b[49m\u001b[43m)\u001b[49m\n\u001b[1;32m    835\u001b[0m \u001b[43m    \u001b[49m\u001b[43m)\u001b[49m\n\u001b[1;32m    836\u001b[0m \u001b[43m\u001b[49m\u001b[43m)\u001b[49m\n\u001b[1;32m    838\u001b[0m \u001b[38;5;28;01mif\u001b[39;00m \u001b[38;5;28mlen\u001b[39m(out) \u001b[38;5;241m<\u001b[39m \u001b[38;5;241m1\u001b[39m:\n\u001b[1;32m    839\u001b[0m     \u001b[38;5;28;01mraise\u001b[39;00m \u001b[38;5;167;01mValueError\u001b[39;00m(\n\u001b[1;32m    840\u001b[0m         \u001b[38;5;124m\"\u001b[39m\u001b[38;5;124mNo fits were performed. \u001b[39m\u001b[38;5;124m\"\u001b[39m\n\u001b[1;32m    841\u001b[0m         \u001b[38;5;124m\"\u001b[39m\u001b[38;5;124mWas the CV iterator empty? \u001b[39m\u001b[38;5;124m\"\u001b[39m\n\u001b[1;32m    842\u001b[0m         \u001b[38;5;124m\"\u001b[39m\u001b[38;5;124mWere there no candidates?\u001b[39m\u001b[38;5;124m\"\u001b[39m\n\u001b[1;32m    843\u001b[0m     )\n",
      "File \u001b[0;32m~/anaconda3/lib/python3.10/site-packages/sklearn/utils/parallel.py:63\u001b[0m, in \u001b[0;36mParallel.__call__\u001b[0;34m(self, iterable)\u001b[0m\n\u001b[1;32m     58\u001b[0m config \u001b[38;5;241m=\u001b[39m get_config()\n\u001b[1;32m     59\u001b[0m iterable_with_config \u001b[38;5;241m=\u001b[39m (\n\u001b[1;32m     60\u001b[0m     (_with_config(delayed_func, config), args, kwargs)\n\u001b[1;32m     61\u001b[0m     \u001b[38;5;28;01mfor\u001b[39;00m delayed_func, args, kwargs \u001b[38;5;129;01min\u001b[39;00m iterable\n\u001b[1;32m     62\u001b[0m )\n\u001b[0;32m---> 63\u001b[0m \u001b[38;5;28;01mreturn\u001b[39;00m \u001b[38;5;28;43msuper\u001b[39;49m\u001b[43m(\u001b[49m\u001b[43m)\u001b[49m\u001b[38;5;241;43m.\u001b[39;49m\u001b[38;5;21;43m__call__\u001b[39;49m\u001b[43m(\u001b[49m\u001b[43miterable_with_config\u001b[49m\u001b[43m)\u001b[49m\n",
      "File \u001b[0;32m~/anaconda3/lib/python3.10/site-packages/joblib/parallel.py:1051\u001b[0m, in \u001b[0;36mParallel.__call__\u001b[0;34m(self, iterable)\u001b[0m\n\u001b[1;32m   1048\u001b[0m \u001b[38;5;28;01mif\u001b[39;00m \u001b[38;5;28mself\u001b[39m\u001b[38;5;241m.\u001b[39mdispatch_one_batch(iterator):\n\u001b[1;32m   1049\u001b[0m     \u001b[38;5;28mself\u001b[39m\u001b[38;5;241m.\u001b[39m_iterating \u001b[38;5;241m=\u001b[39m \u001b[38;5;28mself\u001b[39m\u001b[38;5;241m.\u001b[39m_original_iterator \u001b[38;5;129;01mis\u001b[39;00m \u001b[38;5;129;01mnot\u001b[39;00m \u001b[38;5;28;01mNone\u001b[39;00m\n\u001b[0;32m-> 1051\u001b[0m \u001b[38;5;28;01mwhile\u001b[39;00m \u001b[38;5;28;43mself\u001b[39;49m\u001b[38;5;241;43m.\u001b[39;49m\u001b[43mdispatch_one_batch\u001b[49m\u001b[43m(\u001b[49m\u001b[43miterator\u001b[49m\u001b[43m)\u001b[49m:\n\u001b[1;32m   1052\u001b[0m     \u001b[38;5;28;01mpass\u001b[39;00m\n\u001b[1;32m   1054\u001b[0m \u001b[38;5;28;01mif\u001b[39;00m pre_dispatch \u001b[38;5;241m==\u001b[39m \u001b[38;5;124m\"\u001b[39m\u001b[38;5;124mall\u001b[39m\u001b[38;5;124m\"\u001b[39m \u001b[38;5;129;01mor\u001b[39;00m n_jobs \u001b[38;5;241m==\u001b[39m \u001b[38;5;241m1\u001b[39m:\n\u001b[1;32m   1055\u001b[0m     \u001b[38;5;66;03m# The iterable was consumed all at once by the above for loop.\u001b[39;00m\n\u001b[1;32m   1056\u001b[0m     \u001b[38;5;66;03m# No need to wait for async callbacks to trigger to\u001b[39;00m\n\u001b[1;32m   1057\u001b[0m     \u001b[38;5;66;03m# consumption.\u001b[39;00m\n",
      "File \u001b[0;32m~/anaconda3/lib/python3.10/site-packages/joblib/parallel.py:864\u001b[0m, in \u001b[0;36mParallel.dispatch_one_batch\u001b[0;34m(self, iterator)\u001b[0m\n\u001b[1;32m    862\u001b[0m     \u001b[38;5;28;01mreturn\u001b[39;00m \u001b[38;5;28;01mFalse\u001b[39;00m\n\u001b[1;32m    863\u001b[0m \u001b[38;5;28;01melse\u001b[39;00m:\n\u001b[0;32m--> 864\u001b[0m     \u001b[38;5;28;43mself\u001b[39;49m\u001b[38;5;241;43m.\u001b[39;49m\u001b[43m_dispatch\u001b[49m\u001b[43m(\u001b[49m\u001b[43mtasks\u001b[49m\u001b[43m)\u001b[49m\n\u001b[1;32m    865\u001b[0m     \u001b[38;5;28;01mreturn\u001b[39;00m \u001b[38;5;28;01mTrue\u001b[39;00m\n",
      "File \u001b[0;32m~/anaconda3/lib/python3.10/site-packages/joblib/parallel.py:782\u001b[0m, in \u001b[0;36mParallel._dispatch\u001b[0;34m(self, batch)\u001b[0m\n\u001b[1;32m    780\u001b[0m \u001b[38;5;28;01mwith\u001b[39;00m \u001b[38;5;28mself\u001b[39m\u001b[38;5;241m.\u001b[39m_lock:\n\u001b[1;32m    781\u001b[0m     job_idx \u001b[38;5;241m=\u001b[39m \u001b[38;5;28mlen\u001b[39m(\u001b[38;5;28mself\u001b[39m\u001b[38;5;241m.\u001b[39m_jobs)\n\u001b[0;32m--> 782\u001b[0m     job \u001b[38;5;241m=\u001b[39m \u001b[38;5;28;43mself\u001b[39;49m\u001b[38;5;241;43m.\u001b[39;49m\u001b[43m_backend\u001b[49m\u001b[38;5;241;43m.\u001b[39;49m\u001b[43mapply_async\u001b[49m\u001b[43m(\u001b[49m\u001b[43mbatch\u001b[49m\u001b[43m,\u001b[49m\u001b[43m \u001b[49m\u001b[43mcallback\u001b[49m\u001b[38;5;241;43m=\u001b[39;49m\u001b[43mcb\u001b[49m\u001b[43m)\u001b[49m\n\u001b[1;32m    783\u001b[0m     \u001b[38;5;66;03m# A job can complete so quickly than its callback is\u001b[39;00m\n\u001b[1;32m    784\u001b[0m     \u001b[38;5;66;03m# called before we get here, causing self._jobs to\u001b[39;00m\n\u001b[1;32m    785\u001b[0m     \u001b[38;5;66;03m# grow. To ensure correct results ordering, .insert is\u001b[39;00m\n\u001b[1;32m    786\u001b[0m     \u001b[38;5;66;03m# used (rather than .append) in the following line\u001b[39;00m\n\u001b[1;32m    787\u001b[0m     \u001b[38;5;28mself\u001b[39m\u001b[38;5;241m.\u001b[39m_jobs\u001b[38;5;241m.\u001b[39minsert(job_idx, job)\n",
      "File \u001b[0;32m~/anaconda3/lib/python3.10/site-packages/joblib/_parallel_backends.py:208\u001b[0m, in \u001b[0;36mSequentialBackend.apply_async\u001b[0;34m(self, func, callback)\u001b[0m\n\u001b[1;32m    206\u001b[0m \u001b[38;5;28;01mdef\u001b[39;00m \u001b[38;5;21mapply_async\u001b[39m(\u001b[38;5;28mself\u001b[39m, func, callback\u001b[38;5;241m=\u001b[39m\u001b[38;5;28;01mNone\u001b[39;00m):\n\u001b[1;32m    207\u001b[0m \u001b[38;5;250m    \u001b[39m\u001b[38;5;124;03m\"\"\"Schedule a func to be run\"\"\"\u001b[39;00m\n\u001b[0;32m--> 208\u001b[0m     result \u001b[38;5;241m=\u001b[39m \u001b[43mImmediateResult\u001b[49m\u001b[43m(\u001b[49m\u001b[43mfunc\u001b[49m\u001b[43m)\u001b[49m\n\u001b[1;32m    209\u001b[0m     \u001b[38;5;28;01mif\u001b[39;00m callback:\n\u001b[1;32m    210\u001b[0m         callback(result)\n",
      "File \u001b[0;32m~/anaconda3/lib/python3.10/site-packages/joblib/_parallel_backends.py:572\u001b[0m, in \u001b[0;36mImmediateResult.__init__\u001b[0;34m(self, batch)\u001b[0m\n\u001b[1;32m    569\u001b[0m \u001b[38;5;28;01mdef\u001b[39;00m \u001b[38;5;21m__init__\u001b[39m(\u001b[38;5;28mself\u001b[39m, batch):\n\u001b[1;32m    570\u001b[0m     \u001b[38;5;66;03m# Don't delay the application, to avoid keeping the input\u001b[39;00m\n\u001b[1;32m    571\u001b[0m     \u001b[38;5;66;03m# arguments in memory\u001b[39;00m\n\u001b[0;32m--> 572\u001b[0m     \u001b[38;5;28mself\u001b[39m\u001b[38;5;241m.\u001b[39mresults \u001b[38;5;241m=\u001b[39m \u001b[43mbatch\u001b[49m\u001b[43m(\u001b[49m\u001b[43m)\u001b[49m\n",
      "File \u001b[0;32m~/anaconda3/lib/python3.10/site-packages/joblib/parallel.py:263\u001b[0m, in \u001b[0;36mBatchedCalls.__call__\u001b[0;34m(self)\u001b[0m\n\u001b[1;32m    259\u001b[0m \u001b[38;5;28;01mdef\u001b[39;00m \u001b[38;5;21m__call__\u001b[39m(\u001b[38;5;28mself\u001b[39m):\n\u001b[1;32m    260\u001b[0m     \u001b[38;5;66;03m# Set the default nested backend to self._backend but do not set the\u001b[39;00m\n\u001b[1;32m    261\u001b[0m     \u001b[38;5;66;03m# change the default number of processes to -1\u001b[39;00m\n\u001b[1;32m    262\u001b[0m     \u001b[38;5;28;01mwith\u001b[39;00m parallel_backend(\u001b[38;5;28mself\u001b[39m\u001b[38;5;241m.\u001b[39m_backend, n_jobs\u001b[38;5;241m=\u001b[39m\u001b[38;5;28mself\u001b[39m\u001b[38;5;241m.\u001b[39m_n_jobs):\n\u001b[0;32m--> 263\u001b[0m         \u001b[38;5;28;01mreturn\u001b[39;00m [func(\u001b[38;5;241m*\u001b[39margs, \u001b[38;5;241m*\u001b[39m\u001b[38;5;241m*\u001b[39mkwargs)\n\u001b[1;32m    264\u001b[0m                 \u001b[38;5;28;01mfor\u001b[39;00m func, args, kwargs \u001b[38;5;129;01min\u001b[39;00m \u001b[38;5;28mself\u001b[39m\u001b[38;5;241m.\u001b[39mitems]\n",
      "File \u001b[0;32m~/anaconda3/lib/python3.10/site-packages/joblib/parallel.py:263\u001b[0m, in \u001b[0;36m<listcomp>\u001b[0;34m(.0)\u001b[0m\n\u001b[1;32m    259\u001b[0m \u001b[38;5;28;01mdef\u001b[39;00m \u001b[38;5;21m__call__\u001b[39m(\u001b[38;5;28mself\u001b[39m):\n\u001b[1;32m    260\u001b[0m     \u001b[38;5;66;03m# Set the default nested backend to self._backend but do not set the\u001b[39;00m\n\u001b[1;32m    261\u001b[0m     \u001b[38;5;66;03m# change the default number of processes to -1\u001b[39;00m\n\u001b[1;32m    262\u001b[0m     \u001b[38;5;28;01mwith\u001b[39;00m parallel_backend(\u001b[38;5;28mself\u001b[39m\u001b[38;5;241m.\u001b[39m_backend, n_jobs\u001b[38;5;241m=\u001b[39m\u001b[38;5;28mself\u001b[39m\u001b[38;5;241m.\u001b[39m_n_jobs):\n\u001b[0;32m--> 263\u001b[0m         \u001b[38;5;28;01mreturn\u001b[39;00m [\u001b[43mfunc\u001b[49m\u001b[43m(\u001b[49m\u001b[38;5;241;43m*\u001b[39;49m\u001b[43margs\u001b[49m\u001b[43m,\u001b[49m\u001b[43m \u001b[49m\u001b[38;5;241;43m*\u001b[39;49m\u001b[38;5;241;43m*\u001b[39;49m\u001b[43mkwargs\u001b[49m\u001b[43m)\u001b[49m\n\u001b[1;32m    264\u001b[0m                 \u001b[38;5;28;01mfor\u001b[39;00m func, args, kwargs \u001b[38;5;129;01min\u001b[39;00m \u001b[38;5;28mself\u001b[39m\u001b[38;5;241m.\u001b[39mitems]\n",
      "File \u001b[0;32m~/anaconda3/lib/python3.10/site-packages/sklearn/utils/parallel.py:123\u001b[0m, in \u001b[0;36m_FuncWrapper.__call__\u001b[0;34m(self, *args, **kwargs)\u001b[0m\n\u001b[1;32m    121\u001b[0m     config \u001b[38;5;241m=\u001b[39m {}\n\u001b[1;32m    122\u001b[0m \u001b[38;5;28;01mwith\u001b[39;00m config_context(\u001b[38;5;241m*\u001b[39m\u001b[38;5;241m*\u001b[39mconfig):\n\u001b[0;32m--> 123\u001b[0m     \u001b[38;5;28;01mreturn\u001b[39;00m \u001b[38;5;28;43mself\u001b[39;49m\u001b[38;5;241;43m.\u001b[39;49m\u001b[43mfunction\u001b[49m\u001b[43m(\u001b[49m\u001b[38;5;241;43m*\u001b[39;49m\u001b[43margs\u001b[49m\u001b[43m,\u001b[49m\u001b[43m \u001b[49m\u001b[38;5;241;43m*\u001b[39;49m\u001b[38;5;241;43m*\u001b[39;49m\u001b[43mkwargs\u001b[49m\u001b[43m)\u001b[49m\n",
      "File \u001b[0;32m~/anaconda3/lib/python3.10/site-packages/sklearn/model_selection/_validation.py:708\u001b[0m, in \u001b[0;36m_fit_and_score\u001b[0;34m(estimator, X, y, scorer, train, test, verbose, parameters, fit_params, return_train_score, return_parameters, return_n_test_samples, return_times, return_estimator, split_progress, candidate_progress, error_score)\u001b[0m\n\u001b[1;32m    705\u001b[0m result[\u001b[38;5;124m\"\u001b[39m\u001b[38;5;124mfit_error\u001b[39m\u001b[38;5;124m\"\u001b[39m] \u001b[38;5;241m=\u001b[39m \u001b[38;5;28;01mNone\u001b[39;00m\n\u001b[1;32m    707\u001b[0m fit_time \u001b[38;5;241m=\u001b[39m time\u001b[38;5;241m.\u001b[39mtime() \u001b[38;5;241m-\u001b[39m start_time\n\u001b[0;32m--> 708\u001b[0m test_scores \u001b[38;5;241m=\u001b[39m \u001b[43m_score\u001b[49m\u001b[43m(\u001b[49m\u001b[43mestimator\u001b[49m\u001b[43m,\u001b[49m\u001b[43m \u001b[49m\u001b[43mX_test\u001b[49m\u001b[43m,\u001b[49m\u001b[43m \u001b[49m\u001b[43my_test\u001b[49m\u001b[43m,\u001b[49m\u001b[43m \u001b[49m\u001b[43mscorer\u001b[49m\u001b[43m,\u001b[49m\u001b[43m \u001b[49m\u001b[43merror_score\u001b[49m\u001b[43m)\u001b[49m\n\u001b[1;32m    709\u001b[0m score_time \u001b[38;5;241m=\u001b[39m time\u001b[38;5;241m.\u001b[39mtime() \u001b[38;5;241m-\u001b[39m start_time \u001b[38;5;241m-\u001b[39m fit_time\n\u001b[1;32m    710\u001b[0m \u001b[38;5;28;01mif\u001b[39;00m return_train_score:\n",
      "File \u001b[0;32m~/anaconda3/lib/python3.10/site-packages/sklearn/model_selection/_validation.py:767\u001b[0m, in \u001b[0;36m_score\u001b[0;34m(estimator, X_test, y_test, scorer, error_score)\u001b[0m\n\u001b[1;32m    765\u001b[0m         scores \u001b[38;5;241m=\u001b[39m scorer(estimator, X_test)\n\u001b[1;32m    766\u001b[0m     \u001b[38;5;28;01melse\u001b[39;00m:\n\u001b[0;32m--> 767\u001b[0m         scores \u001b[38;5;241m=\u001b[39m \u001b[43mscorer\u001b[49m\u001b[43m(\u001b[49m\u001b[43mestimator\u001b[49m\u001b[43m,\u001b[49m\u001b[43m \u001b[49m\u001b[43mX_test\u001b[49m\u001b[43m,\u001b[49m\u001b[43m \u001b[49m\u001b[43my_test\u001b[49m\u001b[43m)\u001b[49m\n\u001b[1;32m    768\u001b[0m \u001b[38;5;28;01mexcept\u001b[39;00m \u001b[38;5;167;01mException\u001b[39;00m:\n\u001b[1;32m    769\u001b[0m     \u001b[38;5;28;01mif\u001b[39;00m \u001b[38;5;28misinstance\u001b[39m(scorer, _MultimetricScorer):\n\u001b[1;32m    770\u001b[0m         \u001b[38;5;66;03m# If `_MultimetricScorer` raises exception, the `error_score`\u001b[39;00m\n\u001b[1;32m    771\u001b[0m         \u001b[38;5;66;03m# parameter is equal to \"raise\".\u001b[39;00m\n",
      "File \u001b[0;32m~/anaconda3/lib/python3.10/site-packages/sklearn/metrics/_scorer.py:444\u001b[0m, in \u001b[0;36m_passthrough_scorer\u001b[0;34m(estimator, *args, **kwargs)\u001b[0m\n\u001b[1;32m    442\u001b[0m \u001b[38;5;28;01mdef\u001b[39;00m \u001b[38;5;21m_passthrough_scorer\u001b[39m(estimator, \u001b[38;5;241m*\u001b[39margs, \u001b[38;5;241m*\u001b[39m\u001b[38;5;241m*\u001b[39mkwargs):\n\u001b[1;32m    443\u001b[0m \u001b[38;5;250m    \u001b[39m\u001b[38;5;124;03m\"\"\"Function that wraps estimator.score\"\"\"\u001b[39;00m\n\u001b[0;32m--> 444\u001b[0m     \u001b[38;5;28;01mreturn\u001b[39;00m \u001b[43mestimator\u001b[49m\u001b[38;5;241;43m.\u001b[39;49m\u001b[43mscore\u001b[49m\u001b[43m(\u001b[49m\u001b[38;5;241;43m*\u001b[39;49m\u001b[43margs\u001b[49m\u001b[43m,\u001b[49m\u001b[43m \u001b[49m\u001b[38;5;241;43m*\u001b[39;49m\u001b[38;5;241;43m*\u001b[39;49m\u001b[43mkwargs\u001b[49m\u001b[43m)\u001b[49m\n",
      "File \u001b[0;32m~/anaconda3/lib/python3.10/site-packages/sklearn/pipeline.py:722\u001b[0m, in \u001b[0;36mPipeline.score\u001b[0;34m(self, X, y, sample_weight)\u001b[0m\n\u001b[1;32m    720\u001b[0m \u001b[38;5;28;01mif\u001b[39;00m sample_weight \u001b[38;5;129;01mis\u001b[39;00m \u001b[38;5;129;01mnot\u001b[39;00m \u001b[38;5;28;01mNone\u001b[39;00m:\n\u001b[1;32m    721\u001b[0m     score_params[\u001b[38;5;124m\"\u001b[39m\u001b[38;5;124msample_weight\u001b[39m\u001b[38;5;124m\"\u001b[39m] \u001b[38;5;241m=\u001b[39m sample_weight\n\u001b[0;32m--> 722\u001b[0m \u001b[38;5;28;01mreturn\u001b[39;00m \u001b[38;5;28;43mself\u001b[39;49m\u001b[38;5;241;43m.\u001b[39;49m\u001b[43msteps\u001b[49m\u001b[43m[\u001b[49m\u001b[38;5;241;43m-\u001b[39;49m\u001b[38;5;241;43m1\u001b[39;49m\u001b[43m]\u001b[49m\u001b[43m[\u001b[49m\u001b[38;5;241;43m1\u001b[39;49m\u001b[43m]\u001b[49m\u001b[38;5;241;43m.\u001b[39;49m\u001b[43mscore\u001b[49m\u001b[43m(\u001b[49m\u001b[43mXt\u001b[49m\u001b[43m,\u001b[49m\u001b[43m \u001b[49m\u001b[43my\u001b[49m\u001b[43m,\u001b[49m\u001b[43m \u001b[49m\u001b[38;5;241;43m*\u001b[39;49m\u001b[38;5;241;43m*\u001b[39;49m\u001b[43mscore_params\u001b[49m\u001b[43m)\u001b[49m\n",
      "File \u001b[0;32m~/anaconda3/lib/python3.10/site-packages/sklearn/base.py:649\u001b[0m, in \u001b[0;36mClassifierMixin.score\u001b[0;34m(self, X, y, sample_weight)\u001b[0m\n\u001b[1;32m    624\u001b[0m \u001b[38;5;250m\u001b[39m\u001b[38;5;124;03m\"\"\"\u001b[39;00m\n\u001b[1;32m    625\u001b[0m \u001b[38;5;124;03mReturn the mean accuracy on the given test data and labels.\u001b[39;00m\n\u001b[1;32m    626\u001b[0m \n\u001b[0;32m   (...)\u001b[0m\n\u001b[1;32m    645\u001b[0m \u001b[38;5;124;03m    Mean accuracy of ``self.predict(X)`` wrt. `y`.\u001b[39;00m\n\u001b[1;32m    646\u001b[0m \u001b[38;5;124;03m\"\"\"\u001b[39;00m\n\u001b[1;32m    647\u001b[0m \u001b[38;5;28;01mfrom\u001b[39;00m \u001b[38;5;21;01m.\u001b[39;00m\u001b[38;5;21;01mmetrics\u001b[39;00m \u001b[38;5;28;01mimport\u001b[39;00m accuracy_score\n\u001b[0;32m--> 649\u001b[0m \u001b[38;5;28;01mreturn\u001b[39;00m accuracy_score(y, \u001b[38;5;28;43mself\u001b[39;49m\u001b[38;5;241;43m.\u001b[39;49m\u001b[43mpredict\u001b[49m\u001b[43m(\u001b[49m\u001b[43mX\u001b[49m\u001b[43m)\u001b[49m, sample_weight\u001b[38;5;241m=\u001b[39msample_weight)\n",
      "File \u001b[0;32m~/anaconda3/lib/python3.10/site-packages/sklearn/neighbors/_classification.py:234\u001b[0m, in \u001b[0;36mKNeighborsClassifier.predict\u001b[0;34m(self, X)\u001b[0m\n\u001b[1;32m    218\u001b[0m \u001b[38;5;250m\u001b[39m\u001b[38;5;124;03m\"\"\"Predict the class labels for the provided data.\u001b[39;00m\n\u001b[1;32m    219\u001b[0m \n\u001b[1;32m    220\u001b[0m \u001b[38;5;124;03mParameters\u001b[39;00m\n\u001b[0;32m   (...)\u001b[0m\n\u001b[1;32m    229\u001b[0m \u001b[38;5;124;03m    Class labels for each data sample.\u001b[39;00m\n\u001b[1;32m    230\u001b[0m \u001b[38;5;124;03m\"\"\"\u001b[39;00m\n\u001b[1;32m    231\u001b[0m \u001b[38;5;28;01mif\u001b[39;00m \u001b[38;5;28mself\u001b[39m\u001b[38;5;241m.\u001b[39mweights \u001b[38;5;241m==\u001b[39m \u001b[38;5;124m\"\u001b[39m\u001b[38;5;124muniform\u001b[39m\u001b[38;5;124m\"\u001b[39m:\n\u001b[1;32m    232\u001b[0m     \u001b[38;5;66;03m# In that case, we do not need the distances to perform\u001b[39;00m\n\u001b[1;32m    233\u001b[0m     \u001b[38;5;66;03m# the weighting so we do not compute them.\u001b[39;00m\n\u001b[0;32m--> 234\u001b[0m     neigh_ind \u001b[38;5;241m=\u001b[39m \u001b[38;5;28;43mself\u001b[39;49m\u001b[38;5;241;43m.\u001b[39;49m\u001b[43mkneighbors\u001b[49m\u001b[43m(\u001b[49m\u001b[43mX\u001b[49m\u001b[43m,\u001b[49m\u001b[43m \u001b[49m\u001b[43mreturn_distance\u001b[49m\u001b[38;5;241;43m=\u001b[39;49m\u001b[38;5;28;43;01mFalse\u001b[39;49;00m\u001b[43m)\u001b[49m\n\u001b[1;32m    235\u001b[0m     neigh_dist \u001b[38;5;241m=\u001b[39m \u001b[38;5;28;01mNone\u001b[39;00m\n\u001b[1;32m    236\u001b[0m \u001b[38;5;28;01melse\u001b[39;00m:\n",
      "File \u001b[0;32m~/anaconda3/lib/python3.10/site-packages/sklearn/neighbors/_base.py:824\u001b[0m, in \u001b[0;36mKNeighborsMixin.kneighbors\u001b[0;34m(self, X, n_neighbors, return_distance)\u001b[0m\n\u001b[1;32m    817\u001b[0m use_pairwise_distances_reductions \u001b[38;5;241m=\u001b[39m (\n\u001b[1;32m    818\u001b[0m     \u001b[38;5;28mself\u001b[39m\u001b[38;5;241m.\u001b[39m_fit_method \u001b[38;5;241m==\u001b[39m \u001b[38;5;124m\"\u001b[39m\u001b[38;5;124mbrute\u001b[39m\u001b[38;5;124m\"\u001b[39m\n\u001b[1;32m    819\u001b[0m     \u001b[38;5;129;01mand\u001b[39;00m ArgKmin\u001b[38;5;241m.\u001b[39mis_usable_for(\n\u001b[1;32m    820\u001b[0m         X \u001b[38;5;28;01mif\u001b[39;00m X \u001b[38;5;129;01mis\u001b[39;00m \u001b[38;5;129;01mnot\u001b[39;00m \u001b[38;5;28;01mNone\u001b[39;00m \u001b[38;5;28;01melse\u001b[39;00m \u001b[38;5;28mself\u001b[39m\u001b[38;5;241m.\u001b[39m_fit_X, \u001b[38;5;28mself\u001b[39m\u001b[38;5;241m.\u001b[39m_fit_X, \u001b[38;5;28mself\u001b[39m\u001b[38;5;241m.\u001b[39meffective_metric_\n\u001b[1;32m    821\u001b[0m     )\n\u001b[1;32m    822\u001b[0m )\n\u001b[1;32m    823\u001b[0m \u001b[38;5;28;01mif\u001b[39;00m use_pairwise_distances_reductions:\n\u001b[0;32m--> 824\u001b[0m     results \u001b[38;5;241m=\u001b[39m \u001b[43mArgKmin\u001b[49m\u001b[38;5;241;43m.\u001b[39;49m\u001b[43mcompute\u001b[49m\u001b[43m(\u001b[49m\n\u001b[1;32m    825\u001b[0m \u001b[43m        \u001b[49m\u001b[43mX\u001b[49m\u001b[38;5;241;43m=\u001b[39;49m\u001b[43mX\u001b[49m\u001b[43m,\u001b[49m\n\u001b[1;32m    826\u001b[0m \u001b[43m        \u001b[49m\u001b[43mY\u001b[49m\u001b[38;5;241;43m=\u001b[39;49m\u001b[38;5;28;43mself\u001b[39;49m\u001b[38;5;241;43m.\u001b[39;49m\u001b[43m_fit_X\u001b[49m\u001b[43m,\u001b[49m\n\u001b[1;32m    827\u001b[0m \u001b[43m        \u001b[49m\u001b[43mk\u001b[49m\u001b[38;5;241;43m=\u001b[39;49m\u001b[43mn_neighbors\u001b[49m\u001b[43m,\u001b[49m\n\u001b[1;32m    828\u001b[0m \u001b[43m        \u001b[49m\u001b[43mmetric\u001b[49m\u001b[38;5;241;43m=\u001b[39;49m\u001b[38;5;28;43mself\u001b[39;49m\u001b[38;5;241;43m.\u001b[39;49m\u001b[43meffective_metric_\u001b[49m\u001b[43m,\u001b[49m\n\u001b[1;32m    829\u001b[0m \u001b[43m        \u001b[49m\u001b[43mmetric_kwargs\u001b[49m\u001b[38;5;241;43m=\u001b[39;49m\u001b[38;5;28;43mself\u001b[39;49m\u001b[38;5;241;43m.\u001b[39;49m\u001b[43meffective_metric_params_\u001b[49m\u001b[43m,\u001b[49m\n\u001b[1;32m    830\u001b[0m \u001b[43m        \u001b[49m\u001b[43mstrategy\u001b[49m\u001b[38;5;241;43m=\u001b[39;49m\u001b[38;5;124;43m\"\u001b[39;49m\u001b[38;5;124;43mauto\u001b[39;49m\u001b[38;5;124;43m\"\u001b[39;49m\u001b[43m,\u001b[49m\n\u001b[1;32m    831\u001b[0m \u001b[43m        \u001b[49m\u001b[43mreturn_distance\u001b[49m\u001b[38;5;241;43m=\u001b[39;49m\u001b[43mreturn_distance\u001b[49m\u001b[43m,\u001b[49m\n\u001b[1;32m    832\u001b[0m \u001b[43m    \u001b[49m\u001b[43m)\u001b[49m\n\u001b[1;32m    834\u001b[0m \u001b[38;5;28;01melif\u001b[39;00m (\n\u001b[1;32m    835\u001b[0m     \u001b[38;5;28mself\u001b[39m\u001b[38;5;241m.\u001b[39m_fit_method \u001b[38;5;241m==\u001b[39m \u001b[38;5;124m\"\u001b[39m\u001b[38;5;124mbrute\u001b[39m\u001b[38;5;124m\"\u001b[39m \u001b[38;5;129;01mand\u001b[39;00m \u001b[38;5;28mself\u001b[39m\u001b[38;5;241m.\u001b[39mmetric \u001b[38;5;241m==\u001b[39m \u001b[38;5;124m\"\u001b[39m\u001b[38;5;124mprecomputed\u001b[39m\u001b[38;5;124m\"\u001b[39m \u001b[38;5;129;01mand\u001b[39;00m issparse(X)\n\u001b[1;32m    836\u001b[0m ):\n\u001b[1;32m    837\u001b[0m     results \u001b[38;5;241m=\u001b[39m _kneighbors_from_graph(\n\u001b[1;32m    838\u001b[0m         X, n_neighbors\u001b[38;5;241m=\u001b[39mn_neighbors, return_distance\u001b[38;5;241m=\u001b[39mreturn_distance\n\u001b[1;32m    839\u001b[0m     )\n",
      "File \u001b[0;32m~/anaconda3/lib/python3.10/site-packages/sklearn/metrics/_pairwise_distances_reduction/_dispatcher.py:277\u001b[0m, in \u001b[0;36mArgKmin.compute\u001b[0;34m(cls, X, Y, k, metric, chunk_size, metric_kwargs, strategy, return_distance)\u001b[0m\n\u001b[1;32m    196\u001b[0m \u001b[38;5;250m\u001b[39m\u001b[38;5;124;03m\"\"\"Compute the argkmin reduction.\u001b[39;00m\n\u001b[1;32m    197\u001b[0m \n\u001b[1;32m    198\u001b[0m \u001b[38;5;124;03mParameters\u001b[39;00m\n\u001b[0;32m   (...)\u001b[0m\n\u001b[1;32m    274\u001b[0m \u001b[38;5;124;03mreturns.\u001b[39;00m\n\u001b[1;32m    275\u001b[0m \u001b[38;5;124;03m\"\"\"\u001b[39;00m\n\u001b[1;32m    276\u001b[0m \u001b[38;5;28;01mif\u001b[39;00m X\u001b[38;5;241m.\u001b[39mdtype \u001b[38;5;241m==\u001b[39m Y\u001b[38;5;241m.\u001b[39mdtype \u001b[38;5;241m==\u001b[39m np\u001b[38;5;241m.\u001b[39mfloat64:\n\u001b[0;32m--> 277\u001b[0m     \u001b[38;5;28;01mreturn\u001b[39;00m \u001b[43mArgKmin64\u001b[49m\u001b[38;5;241;43m.\u001b[39;49m\u001b[43mcompute\u001b[49m\u001b[43m(\u001b[49m\n\u001b[1;32m    278\u001b[0m \u001b[43m        \u001b[49m\u001b[43mX\u001b[49m\u001b[38;5;241;43m=\u001b[39;49m\u001b[43mX\u001b[49m\u001b[43m,\u001b[49m\n\u001b[1;32m    279\u001b[0m \u001b[43m        \u001b[49m\u001b[43mY\u001b[49m\u001b[38;5;241;43m=\u001b[39;49m\u001b[43mY\u001b[49m\u001b[43m,\u001b[49m\n\u001b[1;32m    280\u001b[0m \u001b[43m        \u001b[49m\u001b[43mk\u001b[49m\u001b[38;5;241;43m=\u001b[39;49m\u001b[43mk\u001b[49m\u001b[43m,\u001b[49m\n\u001b[1;32m    281\u001b[0m \u001b[43m        \u001b[49m\u001b[43mmetric\u001b[49m\u001b[38;5;241;43m=\u001b[39;49m\u001b[43mmetric\u001b[49m\u001b[43m,\u001b[49m\n\u001b[1;32m    282\u001b[0m \u001b[43m        \u001b[49m\u001b[43mchunk_size\u001b[49m\u001b[38;5;241;43m=\u001b[39;49m\u001b[43mchunk_size\u001b[49m\u001b[43m,\u001b[49m\n\u001b[1;32m    283\u001b[0m \u001b[43m        \u001b[49m\u001b[43mmetric_kwargs\u001b[49m\u001b[38;5;241;43m=\u001b[39;49m\u001b[43mmetric_kwargs\u001b[49m\u001b[43m,\u001b[49m\n\u001b[1;32m    284\u001b[0m \u001b[43m        \u001b[49m\u001b[43mstrategy\u001b[49m\u001b[38;5;241;43m=\u001b[39;49m\u001b[43mstrategy\u001b[49m\u001b[43m,\u001b[49m\n\u001b[1;32m    285\u001b[0m \u001b[43m        \u001b[49m\u001b[43mreturn_distance\u001b[49m\u001b[38;5;241;43m=\u001b[39;49m\u001b[43mreturn_distance\u001b[49m\u001b[43m,\u001b[49m\n\u001b[1;32m    286\u001b[0m \u001b[43m    \u001b[49m\u001b[43m)\u001b[49m\n\u001b[1;32m    288\u001b[0m \u001b[38;5;28;01mif\u001b[39;00m X\u001b[38;5;241m.\u001b[39mdtype \u001b[38;5;241m==\u001b[39m Y\u001b[38;5;241m.\u001b[39mdtype \u001b[38;5;241m==\u001b[39m np\u001b[38;5;241m.\u001b[39mfloat32:\n\u001b[1;32m    289\u001b[0m     \u001b[38;5;28;01mreturn\u001b[39;00m ArgKmin32\u001b[38;5;241m.\u001b[39mcompute(\n\u001b[1;32m    290\u001b[0m         X\u001b[38;5;241m=\u001b[39mX,\n\u001b[1;32m    291\u001b[0m         Y\u001b[38;5;241m=\u001b[39mY,\n\u001b[0;32m   (...)\u001b[0m\n\u001b[1;32m    297\u001b[0m         return_distance\u001b[38;5;241m=\u001b[39mreturn_distance,\n\u001b[1;32m    298\u001b[0m     )\n",
      "File \u001b[0;32msklearn/metrics/_pairwise_distances_reduction/_argkmin.pyx:95\u001b[0m, in \u001b[0;36msklearn.metrics._pairwise_distances_reduction._argkmin.ArgKmin64.compute\u001b[0;34m()\u001b[0m\n",
      "File \u001b[0;32m~/anaconda3/lib/python3.10/site-packages/threadpoolctl.py:176\u001b[0m, in \u001b[0;36mthreadpool_limits.__exit__\u001b[0;34m(self, type, value, traceback)\u001b[0m\n\u001b[1;32m    173\u001b[0m \u001b[38;5;28;01mdef\u001b[39;00m \u001b[38;5;21m__enter__\u001b[39m(\u001b[38;5;28mself\u001b[39m):\n\u001b[1;32m    174\u001b[0m     \u001b[38;5;28;01mreturn\u001b[39;00m \u001b[38;5;28mself\u001b[39m\n\u001b[0;32m--> 176\u001b[0m \u001b[38;5;28;01mdef\u001b[39;00m \u001b[38;5;21m__exit__\u001b[39m(\u001b[38;5;28mself\u001b[39m, \u001b[38;5;28mtype\u001b[39m, value, traceback):\n\u001b[1;32m    177\u001b[0m     \u001b[38;5;28mself\u001b[39m\u001b[38;5;241m.\u001b[39munregister()\n\u001b[1;32m    179\u001b[0m \u001b[38;5;28;01mdef\u001b[39;00m \u001b[38;5;21munregister\u001b[39m(\u001b[38;5;28mself\u001b[39m):\n",
      "\u001b[0;31mKeyboardInterrupt\u001b[0m: "
     ]
    }
   ],
   "source": [
    "knn = KNeighborsClassifier()\n",
    "knn_cv = GridSearchCV(pipe, param_grid=parameter_grid_knn, cv=kf, verbose=4)\n",
    "knn_cv.fit(X_train, y_train)"
   ]
  },
  {
   "cell_type": "code",
   "execution_count": null,
   "id": "2f8601a7-eb1a-4b75-aee6-edee9ea725f0",
   "metadata": {},
   "outputs": [],
   "source": [
    "print(knn_cv.best_params_)"
   ]
  },
  {
   "cell_type": "code",
   "execution_count": null,
   "id": "9e8e6f59-b6e4-400d-92ec-a6464c7f421b",
   "metadata": {},
   "outputs": [],
   "source": [
    "# print(knn_cv.best_params_)\n",
    "print(\"Best score: %0.3f\" % knn_cv.best_score_)\n",
    "print(\"Best parameters set:\")\n",
    "best_parameters = knn_cv.best_estimator_.get_params()\n",
    "for param_name in sorted(parameter_grid_knn.keys()):\n",
    "    print(\"\\t%s: %r\" % (param_name, best_parameters[param_name]))"
   ]
  },
  {
   "cell_type": "code",
   "execution_count": null,
   "id": "03e539cc-7bb0-4794-bd28-90d22e211925",
   "metadata": {},
   "outputs": [],
   "source": [
    "### Train Model"
   ]
  },
  {
   "cell_type": "code",
   "execution_count": null,
   "id": "01ad0d46-50d4-4245-948d-3a76cd213400",
   "metadata": {},
   "outputs": [],
   "source": [
    "model_knn = make_pipeline(TfidfVectorizer(input = 'content', lowercase = True, analyzer = 'char', max_features = 1024, ngram_range = (1, 4)), KNeighborsClassifier(n_neighbors = 10))\n",
    "model_knn.fit(X_train, y_train) "
   ]
  },
  {
   "cell_type": "code",
   "execution_count": null,
   "id": "351234bc-5d90-4f89-af72-dff81999de22",
   "metadata": {},
   "outputs": [],
   "source": [
    "model_knn.score(X_test, y_test)"
   ]
  },
  {
   "cell_type": "code",
   "execution_count": null,
   "id": "44039497-6a8e-482b-90ed-d068708c9004",
   "metadata": {},
   "outputs": [],
   "source": [
    "test_prediction_knn = model_knn.predict(X_test)\n",
    "test_accuracy_knn = accuracy_score(y_test, test_prediction_knn)\n",
    "print(\"Test Accuracy KNN:\", test_accuracy_knn)"
   ]
  },
  {
   "cell_type": "markdown",
   "id": "63e78877-0c77-41f0-a731-96805772afc0",
   "metadata": {},
   "source": [
    "### Classification Report"
   ]
  },
  {
   "cell_type": "code",
   "execution_count": null,
   "id": "7e68cc53-bdd3-42b5-b765-69c320205098",
   "metadata": {},
   "outputs": [],
   "source": [
    "print(classification_report(y_test, test_prediction_knn))"
   ]
  },
  {
   "cell_type": "code",
   "execution_count": null,
   "id": "ceebb1b4-40a9-4985-ab03-709eaea1b213",
   "metadata": {},
   "outputs": [],
   "source": [
    "cf_matrix_knn = confusion_matrix(y_test , test_prediction_knn)\n",
    "print(cf_matrix_knn)"
   ]
  },
  {
   "cell_type": "code",
   "execution_count": null,
   "id": "fb7f7e3e-241f-454c-9276-31e6d057c4c4",
   "metadata": {},
   "outputs": [],
   "source": [
    "labels = list(set(y_test))\n",
    "print_confusion_matrix(cf_matrix_knn, class_names=labels);"
   ]
  },
  {
   "cell_type": "markdown",
   "id": "49260397-48fe-4f2b-8db9-968b9e008d1f",
   "metadata": {},
   "source": [
    "### Save Model KNN"
   ]
  },
  {
   "cell_type": "code",
   "execution_count": null,
   "id": "5e55ff3d-2c2a-453f-a40a-107e1b5f932c",
   "metadata": {},
   "outputs": [],
   "source": [
    "filename_model_knn = '../models/model_knn.pmal'\n",
    "pickle.dump(model_knn, open(filename_model_knn, 'wb'))"
   ]
  }
 ],
 "metadata": {
  "kernelspec": {
   "display_name": "Python 3 (ipykernel)",
   "language": "python",
   "name": "python3"
  },
  "language_info": {
   "codemirror_mode": {
    "name": "ipython",
    "version": 3
   },
   "file_extension": ".py",
   "mimetype": "text/x-python",
   "name": "python",
   "nbconvert_exporter": "python",
   "pygments_lexer": "ipython3",
   "version": "3.10.13"
  }
 },
 "nbformat": 4,
 "nbformat_minor": 5
}
